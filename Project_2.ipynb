{
 "cells": [
  {
   "cell_type": "markdown",
   "id": "42289889-bd57-434e-9637-d3e354756316",
   "metadata": {
    "id": "42289889-bd57-434e-9637-d3e354756316"
   },
   "source": [
    "<center> <img src = https://raw.githubusercontent.com/AndreyRysistov/DatasetsForPandas/main/hh%20label.jpg alt=\"drawing\" style=\"width:400px;\">"
   ]
  },
  {
   "cell_type": "markdown",
   "id": "829cb75b-f14e-4ba8-9195-7ba929a7d656",
   "metadata": {
    "id": "829cb75b-f14e-4ba8-9195-7ba929a7d656",
    "tags": []
   },
   "source": [
    "# <center> Проект: Анализ вакансий из HeadHunter\n",
    "   "
   ]
  },
  {
   "cell_type": "code",
   "execution_count": 545,
   "id": "dccfde33-2452-43fb-a8a5-5c6ebc02a71d",
   "metadata": {
    "id": "dccfde33-2452-43fb-a8a5-5c6ebc02a71d"
   },
   "outputs": [],
   "source": [
    "import pandas as pd\n",
    "import psycopg2"
   ]
  },
  {
   "cell_type": "code",
   "execution_count": 547,
   "id": "G4X_q8KBf7SF",
   "metadata": {
    "id": "G4X_q8KBf7SF"
   },
   "outputs": [],
   "source": [
    "connection = psycopg2.connect(\n",
    "    dbname=DBNAME,\n",
    "    user=USER,\n",
    "    host=HOST,\n",
    "    password=PASSWORD,\n",
    "    port=PORT\n",
    ")"
   ]
  },
  {
   "cell_type": "markdown",
   "id": "0dc6476b-7a00-44f1-ac93-6e3baed33a29",
   "metadata": {
    "id": "0dc6476b-7a00-44f1-ac93-6e3baed33a29"
   },
   "source": [
    "# Юнит 3. Предварительный анализ данных"
   ]
  },
  {
   "cell_type": "markdown",
   "id": "889782b6-8d1c-410e-8920-e57f27917c64",
   "metadata": {
    "id": "889782b6-8d1c-410e-8920-e57f27917c64"
   },
   "source": [
    "1. Напишите запрос, который посчитает количество вакансий в нашей базе (вакансии находятся в таблице vacancies). "
   ]
  },
  {
   "cell_type": "code",
   "execution_count": 548,
   "id": "bc39e68e-ed02-4ee2-9235-7258a2f867a8",
   "metadata": {
    "id": "bc39e68e-ed02-4ee2-9235-7258a2f867a8"
   },
   "outputs": [],
   "source": [
    "query_3_1 = f'''\n",
    "SELECT *\n",
    "FROM vacancies\n",
    "LIMIT {10}\n",
    "'''"
   ]
  },
  {
   "cell_type": "code",
   "execution_count": 549,
   "id": "7mAwtsk4hEHY",
   "metadata": {
    "id": "7mAwtsk4hEHY"
   },
   "outputs": [
    {
     "name": "stderr",
     "output_type": "stream",
     "text": [
      "C:\\Users\\user\\AppData\\Local\\Temp\\ipykernel_11672\\3851344990.py:1: UserWarning: pandas only supports SQLAlchemy connectable (engine/connection) or database string URI or sqlite3 DBAPI2 connection. Other DBAPI2 objects are not tested. Please consider using SQLAlchemy.\n",
      "  df = pd.read_sql_query(query_3_1, connection)\n"
     ]
    },
    {
     "data": {
      "text/html": [
       "<div>\n",
       "<style scoped>\n",
       "    .dataframe tbody tr th:only-of-type {\n",
       "        vertical-align: middle;\n",
       "    }\n",
       "\n",
       "    .dataframe tbody tr th {\n",
       "        vertical-align: top;\n",
       "    }\n",
       "\n",
       "    .dataframe thead th {\n",
       "        text-align: right;\n",
       "    }\n",
       "</style>\n",
       "<table border=\"1\" class=\"dataframe\">\n",
       "  <thead>\n",
       "    <tr style=\"text-align: right;\">\n",
       "      <th></th>\n",
       "      <th>id</th>\n",
       "      <th>name</th>\n",
       "      <th>key_skills</th>\n",
       "      <th>schedule</th>\n",
       "      <th>experience</th>\n",
       "      <th>employment</th>\n",
       "      <th>salary_from</th>\n",
       "      <th>salary_to</th>\n",
       "      <th>area_id</th>\n",
       "      <th>employer_id</th>\n",
       "    </tr>\n",
       "  </thead>\n",
       "  <tbody>\n",
       "    <tr>\n",
       "      <th>0</th>\n",
       "      <td>55312386</td>\n",
       "      <td>Компьютерный Мастер</td>\n",
       "      <td>Пользователь ПК\\tРабота в команде\\tРемонт ноут...</td>\n",
       "      <td>Полный день</td>\n",
       "      <td>Нет опыта</td>\n",
       "      <td>Полная занятость</td>\n",
       "      <td>64000.0</td>\n",
       "      <td>NaN</td>\n",
       "      <td>1516</td>\n",
       "      <td>5724811</td>\n",
       "    </tr>\n",
       "    <tr>\n",
       "      <th>1</th>\n",
       "      <td>55843014</td>\n",
       "      <td>Системный администратор</td>\n",
       "      <td>Средства криптографической защиты информации\\t...</td>\n",
       "      <td>Полный день</td>\n",
       "      <td>От 3 до 6 лет</td>\n",
       "      <td>Полная занятость</td>\n",
       "      <td>NaN</td>\n",
       "      <td>NaN</td>\n",
       "      <td>130</td>\n",
       "      <td>4903713</td>\n",
       "    </tr>\n",
       "    <tr>\n",
       "      <th>2</th>\n",
       "      <td>54525964</td>\n",
       "      <td>Lead Java Developer to Poland</td>\n",
       "      <td>Spring Framework\\tSQL\\tHibernate ORM\\tJava\\tGit</td>\n",
       "      <td>Удаленная работа</td>\n",
       "      <td>От 3 до 6 лет</td>\n",
       "      <td>Полная занятость</td>\n",
       "      <td>NaN</td>\n",
       "      <td>NaN</td>\n",
       "      <td>160</td>\n",
       "      <td>69961</td>\n",
       "    </tr>\n",
       "    <tr>\n",
       "      <th>3</th>\n",
       "      <td>54525965</td>\n",
       "      <td>Lead Java Developer to Poland</td>\n",
       "      <td>Spring Framework\\tSQL\\tHibernate ORM\\tJava\\tGit</td>\n",
       "      <td>Удаленная работа</td>\n",
       "      <td>От 3 до 6 лет</td>\n",
       "      <td>Полная занятость</td>\n",
       "      <td>NaN</td>\n",
       "      <td>NaN</td>\n",
       "      <td>159</td>\n",
       "      <td>69961</td>\n",
       "    </tr>\n",
       "    <tr>\n",
       "      <th>4</th>\n",
       "      <td>55354053</td>\n",
       "      <td>Специалист службы поддержки с техническими зна...</td>\n",
       "      <td>None</td>\n",
       "      <td>Удаленная работа</td>\n",
       "      <td>Нет опыта</td>\n",
       "      <td>Частичная занятость</td>\n",
       "      <td>15000.0</td>\n",
       "      <td>NaN</td>\n",
       "      <td>1955</td>\n",
       "      <td>1740</td>\n",
       "    </tr>\n",
       "    <tr>\n",
       "      <th>5</th>\n",
       "      <td>55906072</td>\n",
       "      <td>Корректор</td>\n",
       "      <td>Корректура текстов\\tГрамотность\\tРабота в кома...</td>\n",
       "      <td>Полный день</td>\n",
       "      <td>Нет опыта</td>\n",
       "      <td>Полная занятость</td>\n",
       "      <td>NaN</td>\n",
       "      <td>NaN</td>\n",
       "      <td>2323</td>\n",
       "      <td>584934</td>\n",
       "    </tr>\n",
       "    <tr>\n",
       "      <th>6</th>\n",
       "      <td>55523207</td>\n",
       "      <td>React Front-end Middle Developer</td>\n",
       "      <td>JavaScript\\tTypeScript\\tCSS3\\tNode.js\\tHTML5</td>\n",
       "      <td>Гибкий график</td>\n",
       "      <td>От 1 года до 3 лет</td>\n",
       "      <td>Полная занятость</td>\n",
       "      <td>NaN</td>\n",
       "      <td>NaN</td>\n",
       "      <td>2759</td>\n",
       "      <td>204511</td>\n",
       "    </tr>\n",
       "    <tr>\n",
       "      <th>7</th>\n",
       "      <td>55050261</td>\n",
       "      <td>Инженер-программист</td>\n",
       "      <td>Java SE\\tSpring Framework\\tSpring Boot\\tGit\\tS...</td>\n",
       "      <td>Полный день</td>\n",
       "      <td>Нет опыта</td>\n",
       "      <td>Полная занятость</td>\n",
       "      <td>40000.0</td>\n",
       "      <td>60000.0</td>\n",
       "      <td>49</td>\n",
       "      <td>4448636</td>\n",
       "    </tr>\n",
       "    <tr>\n",
       "      <th>8</th>\n",
       "      <td>55583432</td>\n",
       "      <td>Системный администратор</td>\n",
       "      <td>Linux\\tАдминистрирование сетевого оборудования...</td>\n",
       "      <td>Полный день</td>\n",
       "      <td>От 1 года до 3 лет</td>\n",
       "      <td>Полная занятость</td>\n",
       "      <td>50000.0</td>\n",
       "      <td>NaN</td>\n",
       "      <td>3</td>\n",
       "      <td>55126</td>\n",
       "    </tr>\n",
       "    <tr>\n",
       "      <th>9</th>\n",
       "      <td>55312414</td>\n",
       "      <td>Ведущий специалист группы разработки систем</td>\n",
       "      <td>1С программирование\\t1С: Предприятие 8\\t1С: До...</td>\n",
       "      <td>Полный день</td>\n",
       "      <td>От 3 до 6 лет</td>\n",
       "      <td>Полная занятость</td>\n",
       "      <td>NaN</td>\n",
       "      <td>NaN</td>\n",
       "      <td>47</td>\n",
       "      <td>1413754</td>\n",
       "    </tr>\n",
       "  </tbody>\n",
       "</table>\n",
       "</div>"
      ],
      "text/plain": [
       "         id                                               name  \\\n",
       "0  55312386                                Компьютерный Мастер   \n",
       "1  55843014                            Системный администратор   \n",
       "2  54525964                      Lead Java Developer to Poland   \n",
       "3  54525965                      Lead Java Developer to Poland   \n",
       "4  55354053  Специалист службы поддержки с техническими зна...   \n",
       "5  55906072                                          Корректор   \n",
       "6  55523207                   React Front-end Middle Developer   \n",
       "7  55050261                                Инженер-программист   \n",
       "8  55583432                            Системный администратор   \n",
       "9  55312414        Ведущий специалист группы разработки систем   \n",
       "\n",
       "                                          key_skills          schedule  \\\n",
       "0  Пользователь ПК\\tРабота в команде\\tРемонт ноут...       Полный день   \n",
       "1  Средства криптографической защиты информации\\t...       Полный день   \n",
       "2    Spring Framework\\tSQL\\tHibernate ORM\\tJava\\tGit  Удаленная работа   \n",
       "3    Spring Framework\\tSQL\\tHibernate ORM\\tJava\\tGit  Удаленная работа   \n",
       "4                                               None  Удаленная работа   \n",
       "5  Корректура текстов\\tГрамотность\\tРабота в кома...       Полный день   \n",
       "6       JavaScript\\tTypeScript\\tCSS3\\tNode.js\\tHTML5     Гибкий график   \n",
       "7  Java SE\\tSpring Framework\\tSpring Boot\\tGit\\tS...       Полный день   \n",
       "8  Linux\\tАдминистрирование сетевого оборудования...       Полный день   \n",
       "9  1С программирование\\t1С: Предприятие 8\\t1С: До...       Полный день   \n",
       "\n",
       "           experience           employment  salary_from  salary_to  area_id  \\\n",
       "0           Нет опыта     Полная занятость      64000.0        NaN     1516   \n",
       "1       От 3 до 6 лет     Полная занятость          NaN        NaN      130   \n",
       "2       От 3 до 6 лет     Полная занятость          NaN        NaN      160   \n",
       "3       От 3 до 6 лет     Полная занятость          NaN        NaN      159   \n",
       "4           Нет опыта  Частичная занятость      15000.0        NaN     1955   \n",
       "5           Нет опыта     Полная занятость          NaN        NaN     2323   \n",
       "6  От 1 года до 3 лет     Полная занятость          NaN        NaN     2759   \n",
       "7           Нет опыта     Полная занятость      40000.0    60000.0       49   \n",
       "8  От 1 года до 3 лет     Полная занятость      50000.0        NaN        3   \n",
       "9       От 3 до 6 лет     Полная занятость          NaN        NaN       47   \n",
       "\n",
       "   employer_id  \n",
       "0      5724811  \n",
       "1      4903713  \n",
       "2        69961  \n",
       "3        69961  \n",
       "4         1740  \n",
       "5       584934  \n",
       "6       204511  \n",
       "7      4448636  \n",
       "8        55126  \n",
       "9      1413754  "
      ]
     },
     "execution_count": 549,
     "metadata": {},
     "output_type": "execute_result"
    }
   ],
   "source": [
    "df = pd.read_sql_query(query_3_1, connection)\n",
    "df"
   ]
  },
  {
   "cell_type": "markdown",
   "id": "b583485d-1f9e-494e-ada4-80ffff7c53d6",
   "metadata": {
    "id": "b583485d-1f9e-494e-ada4-80ffff7c53d6"
   },
   "source": [
    "2. Напишите запрос, который посчитает количество работодателей (таблица employers). "
   ]
  },
  {
   "cell_type": "code",
   "execution_count": 550,
   "id": "5408c52c-3407-4a63-b25b-1aafa2322d28",
   "metadata": {
    "id": "5408c52c-3407-4a63-b25b-1aafa2322d28"
   },
   "outputs": [],
   "source": [
    "query_3_2 = f'''\n",
    "SELECT*\n",
    "FROM employers\n",
    "LIMIT {10}\n",
    "'''"
   ]
  },
  {
   "cell_type": "code",
   "execution_count": 551,
   "id": "jVL4eshKhdqc",
   "metadata": {
    "id": "jVL4eshKhdqc"
   },
   "outputs": [
    {
     "name": "stderr",
     "output_type": "stream",
     "text": [
      "C:\\Users\\user\\AppData\\Local\\Temp\\ipykernel_11672\\3588252056.py:1: UserWarning: pandas only supports SQLAlchemy connectable (engine/connection) or database string URI or sqlite3 DBAPI2 connection. Other DBAPI2 objects are not tested. Please consider using SQLAlchemy.\n",
      "  df = pd.read_sql_query(query_3_2, connection)\n"
     ]
    },
    {
     "data": {
      "text/html": [
       "<div>\n",
       "<style scoped>\n",
       "    .dataframe tbody tr th:only-of-type {\n",
       "        vertical-align: middle;\n",
       "    }\n",
       "\n",
       "    .dataframe tbody tr th {\n",
       "        vertical-align: top;\n",
       "    }\n",
       "\n",
       "    .dataframe thead th {\n",
       "        text-align: right;\n",
       "    }\n",
       "</style>\n",
       "<table border=\"1\" class=\"dataframe\">\n",
       "  <thead>\n",
       "    <tr style=\"text-align: right;\">\n",
       "      <th></th>\n",
       "      <th>id</th>\n",
       "      <th>name</th>\n",
       "      <th>area</th>\n",
       "    </tr>\n",
       "  </thead>\n",
       "  <tbody>\n",
       "    <tr>\n",
       "      <th>0</th>\n",
       "      <td>2393</td>\n",
       "      <td>Программный Продукт, ИТ-компания</td>\n",
       "      <td>1</td>\n",
       "    </tr>\n",
       "    <tr>\n",
       "      <th>1</th>\n",
       "      <td>72977</td>\n",
       "      <td>БАРС Груп</td>\n",
       "      <td>88</td>\n",
       "    </tr>\n",
       "    <tr>\n",
       "      <th>2</th>\n",
       "      <td>3155</td>\n",
       "      <td>Бест, Торгово-производственная компания, Екате...</td>\n",
       "      <td>3</td>\n",
       "    </tr>\n",
       "    <tr>\n",
       "      <th>3</th>\n",
       "      <td>675</td>\n",
       "      <td>КОРУС Консалтинг</td>\n",
       "      <td>2</td>\n",
       "    </tr>\n",
       "    <tr>\n",
       "      <th>4</th>\n",
       "      <td>1840010</td>\n",
       "      <td>филиал ФКУ Налог-Сервис ФНС России в Республик...</td>\n",
       "      <td>88</td>\n",
       "    </tr>\n",
       "    <tr>\n",
       "      <th>5</th>\n",
       "      <td>213397</td>\n",
       "      <td>МойОфис</td>\n",
       "      <td>1</td>\n",
       "    </tr>\n",
       "    <tr>\n",
       "      <th>6</th>\n",
       "      <td>41862</td>\n",
       "      <td>Контур</td>\n",
       "      <td>3</td>\n",
       "    </tr>\n",
       "    <tr>\n",
       "      <th>7</th>\n",
       "      <td>1080425</td>\n",
       "      <td>Челябинский государственный университет, ФГБОУ...</td>\n",
       "      <td>104</td>\n",
       "    </tr>\n",
       "    <tr>\n",
       "      <th>8</th>\n",
       "      <td>4080</td>\n",
       "      <td>Axenix (ранее Accenture)</td>\n",
       "      <td>1</td>\n",
       "    </tr>\n",
       "    <tr>\n",
       "      <th>9</th>\n",
       "      <td>3415</td>\n",
       "      <td>ИНФОРМЗАЩИТА</td>\n",
       "      <td>1</td>\n",
       "    </tr>\n",
       "  </tbody>\n",
       "</table>\n",
       "</div>"
      ],
      "text/plain": [
       "        id                                               name  area\n",
       "0     2393                   Программный Продукт, ИТ-компания     1\n",
       "1    72977                                          БАРС Груп    88\n",
       "2     3155  Бест, Торгово-производственная компания, Екате...     3\n",
       "3      675                                   КОРУС Консалтинг     2\n",
       "4  1840010  филиал ФКУ Налог-Сервис ФНС России в Республик...    88\n",
       "5   213397                                            МойОфис     1\n",
       "6    41862                                             Контур     3\n",
       "7  1080425  Челябинский государственный университет, ФГБОУ...   104\n",
       "8     4080                           Axenix (ранее Accenture)     1\n",
       "9     3415                                       ИНФОРМЗАЩИТА     1"
      ]
     },
     "execution_count": 551,
     "metadata": {},
     "output_type": "execute_result"
    }
   ],
   "source": [
    "df = pd.read_sql_query(query_3_2, connection)\n",
    "df"
   ]
  },
  {
   "cell_type": "markdown",
   "id": "a2bfff1f-c975-4bf6-84be-2185d79dcb76",
   "metadata": {
    "id": "a2bfff1f-c975-4bf6-84be-2185d79dcb76"
   },
   "source": [
    "3. Посчитате с помощью запроса количество регионов (таблица areas)."
   ]
  },
  {
   "cell_type": "code",
   "execution_count": 552,
   "id": "1m8QJwBYhey6",
   "metadata": {
    "id": "1m8QJwBYhey6"
   },
   "outputs": [],
   "source": [
    "query_3_3 = f'''\n",
    "SELECT *\n",
    "FROM areas\n",
    "LIMIT {10}\n",
    "'''"
   ]
  },
  {
   "cell_type": "code",
   "execution_count": 553,
   "id": "EZsn9tlfhe7f",
   "metadata": {
    "id": "EZsn9tlfhe7f"
   },
   "outputs": [
    {
     "name": "stderr",
     "output_type": "stream",
     "text": [
      "C:\\Users\\user\\AppData\\Local\\Temp\\ipykernel_11672\\2018224393.py:1: UserWarning: pandas only supports SQLAlchemy connectable (engine/connection) or database string URI or sqlite3 DBAPI2 connection. Other DBAPI2 objects are not tested. Please consider using SQLAlchemy.\n",
      "  df = pd.read_sql_query(query_3_3, connection)\n"
     ]
    },
    {
     "data": {
      "text/html": [
       "<div>\n",
       "<style scoped>\n",
       "    .dataframe tbody tr th:only-of-type {\n",
       "        vertical-align: middle;\n",
       "    }\n",
       "\n",
       "    .dataframe tbody tr th {\n",
       "        vertical-align: top;\n",
       "    }\n",
       "\n",
       "    .dataframe thead th {\n",
       "        text-align: right;\n",
       "    }\n",
       "</style>\n",
       "<table border=\"1\" class=\"dataframe\">\n",
       "  <thead>\n",
       "    <tr style=\"text-align: right;\">\n",
       "      <th></th>\n",
       "      <th>id</th>\n",
       "      <th>name</th>\n",
       "    </tr>\n",
       "  </thead>\n",
       "  <tbody>\n",
       "    <tr>\n",
       "      <th>0</th>\n",
       "      <td>2758</td>\n",
       "      <td>Тбилиси</td>\n",
       "    </tr>\n",
       "    <tr>\n",
       "      <th>1</th>\n",
       "      <td>8</td>\n",
       "      <td>Майкоп</td>\n",
       "    </tr>\n",
       "    <tr>\n",
       "      <th>2</th>\n",
       "      <td>1180</td>\n",
       "      <td>Нерюнгри</td>\n",
       "    </tr>\n",
       "    <tr>\n",
       "      <th>3</th>\n",
       "      <td>1240</td>\n",
       "      <td>Новокузнецк</td>\n",
       "    </tr>\n",
       "    <tr>\n",
       "      <th>4</th>\n",
       "      <td>2</td>\n",
       "      <td>Санкт-Петербург</td>\n",
       "    </tr>\n",
       "    <tr>\n",
       "      <th>5</th>\n",
       "      <td>1</td>\n",
       "      <td>Москва</td>\n",
       "    </tr>\n",
       "    <tr>\n",
       "      <th>6</th>\n",
       "      <td>2061</td>\n",
       "      <td>Подольск (Московская область)</td>\n",
       "    </tr>\n",
       "    <tr>\n",
       "      <th>7</th>\n",
       "      <td>1545</td>\n",
       "      <td>Новочеркасск</td>\n",
       "    </tr>\n",
       "    <tr>\n",
       "      <th>8</th>\n",
       "      <td>2759</td>\n",
       "      <td>Ташкент</td>\n",
       "    </tr>\n",
       "    <tr>\n",
       "      <th>9</th>\n",
       "      <td>3695</td>\n",
       "      <td>Промышленная</td>\n",
       "    </tr>\n",
       "  </tbody>\n",
       "</table>\n",
       "</div>"
      ],
      "text/plain": [
       "     id                           name\n",
       "0  2758                        Тбилиси\n",
       "1     8                         Майкоп\n",
       "2  1180                       Нерюнгри\n",
       "3  1240                    Новокузнецк\n",
       "4     2                Санкт-Петербург\n",
       "5     1                         Москва\n",
       "6  2061  Подольск (Московская область)\n",
       "7  1545                   Новочеркасск\n",
       "8  2759                        Ташкент\n",
       "9  3695                   Промышленная"
      ]
     },
     "execution_count": 553,
     "metadata": {},
     "output_type": "execute_result"
    }
   ],
   "source": [
    "df = pd.read_sql_query(query_3_3, connection)\n",
    "df"
   ]
  },
  {
   "cell_type": "markdown",
   "id": "41bb59f3-53cc-4a67-a5bc-bedf573955e4",
   "metadata": {
    "id": "41bb59f3-53cc-4a67-a5bc-bedf573955e4"
   },
   "source": [
    "4. Посчитате с помощью запроса количество сфер деятельности в базе (таблица industries)."
   ]
  },
  {
   "cell_type": "code",
   "execution_count": 554,
   "id": "d286cf4c-707b-4cd2-9190-7ab3587d04a1",
   "metadata": {
    "id": "d286cf4c-707b-4cd2-9190-7ab3587d04a1"
   },
   "outputs": [],
   "source": [
    "query_3_4 = f'''\n",
    "SELECT *\n",
    "FROM industries\n",
    "LIMIT {10}\n",
    "'''"
   ]
  },
  {
   "cell_type": "code",
   "execution_count": 555,
   "id": "JYAaoZ4qhfzW",
   "metadata": {
    "id": "JYAaoZ4qhfzW"
   },
   "outputs": [
    {
     "name": "stderr",
     "output_type": "stream",
     "text": [
      "C:\\Users\\user\\AppData\\Local\\Temp\\ipykernel_11672\\2172479966.py:1: UserWarning: pandas only supports SQLAlchemy connectable (engine/connection) or database string URI or sqlite3 DBAPI2 connection. Other DBAPI2 objects are not tested. Please consider using SQLAlchemy.\n",
      "  df = pd.read_sql_query(query_3_4, connection)\n"
     ]
    },
    {
     "data": {
      "text/html": [
       "<div>\n",
       "<style scoped>\n",
       "    .dataframe tbody tr th:only-of-type {\n",
       "        vertical-align: middle;\n",
       "    }\n",
       "\n",
       "    .dataframe tbody tr th {\n",
       "        vertical-align: top;\n",
       "    }\n",
       "\n",
       "    .dataframe thead th {\n",
       "        text-align: right;\n",
       "    }\n",
       "</style>\n",
       "<table border=\"1\" class=\"dataframe\">\n",
       "  <thead>\n",
       "    <tr style=\"text-align: right;\">\n",
       "      <th></th>\n",
       "      <th>id</th>\n",
       "      <th>name</th>\n",
       "    </tr>\n",
       "  </thead>\n",
       "  <tbody>\n",
       "    <tr>\n",
       "      <th>0</th>\n",
       "      <td>7.540</td>\n",
       "      <td>Разработка программного обеспечения</td>\n",
       "    </tr>\n",
       "    <tr>\n",
       "      <th>1</th>\n",
       "      <td>7.539</td>\n",
       "      <td>Системная интеграция,  автоматизации технологи...</td>\n",
       "    </tr>\n",
       "    <tr>\n",
       "      <th>2</th>\n",
       "      <td>27.550</td>\n",
       "      <td>Безалкогольные напитки (производство)</td>\n",
       "    </tr>\n",
       "    <tr>\n",
       "      <th>3</th>\n",
       "      <td>27.551</td>\n",
       "      <td>Безалкогольные напитки (продвижение, оптовая т...</td>\n",
       "    </tr>\n",
       "    <tr>\n",
       "      <th>4</th>\n",
       "      <td>13.664</td>\n",
       "      <td>Управление и эксплуатация недвижимости</td>\n",
       "    </tr>\n",
       "    <tr>\n",
       "      <th>5</th>\n",
       "      <td>5.466</td>\n",
       "      <td>Складские услуги</td>\n",
       "    </tr>\n",
       "    <tr>\n",
       "      <th>6</th>\n",
       "      <td>39.442</td>\n",
       "      <td>Вуз, ссуз колледж, ПТУ</td>\n",
       "    </tr>\n",
       "    <tr>\n",
       "      <th>7</th>\n",
       "      <td>44.393</td>\n",
       "      <td>Консалтинговые услуги</td>\n",
       "    </tr>\n",
       "    <tr>\n",
       "      <th>8</th>\n",
       "      <td>5.467</td>\n",
       "      <td>Курьерская, почтовая доставка</td>\n",
       "    </tr>\n",
       "    <tr>\n",
       "      <th>9</th>\n",
       "      <td>41.525</td>\n",
       "      <td>Интернет-магазин</td>\n",
       "    </tr>\n",
       "  </tbody>\n",
       "</table>\n",
       "</div>"
      ],
      "text/plain": [
       "       id                                               name\n",
       "0   7.540                Разработка программного обеспечения\n",
       "1   7.539  Системная интеграция,  автоматизации технологи...\n",
       "2  27.550              Безалкогольные напитки (производство)\n",
       "3  27.551  Безалкогольные напитки (продвижение, оптовая т...\n",
       "4  13.664             Управление и эксплуатация недвижимости\n",
       "5   5.466                                   Складские услуги\n",
       "6  39.442                             Вуз, ссуз колледж, ПТУ\n",
       "7  44.393                              Консалтинговые услуги\n",
       "8   5.467                      Курьерская, почтовая доставка\n",
       "9  41.525                                   Интернет-магазин"
      ]
     },
     "execution_count": 555,
     "metadata": {},
     "output_type": "execute_result"
    }
   ],
   "source": [
    "df = pd.read_sql_query(query_3_4, connection)\n",
    "df"
   ]
  },
  {
   "cell_type": "markdown",
   "id": "9a8a2181-6914-448b-85f1-38f5f18b8a93",
   "metadata": {
    "id": "9a8a2181-6914-448b-85f1-38f5f18b8a93"
   },
   "source": [
    "***"
   ]
  },
  {
   "cell_type": "markdown",
   "id": "d4e752b2",
   "metadata": {},
   "source": [
    "### Выводы по предварительному анализу данных:\n",
    "* База данных содержит достаточно большое количество вакансий (49197). Это может указывать на активность рынка труда и наличие разнообразных возможностей для соискателей.\n",
    "* Количество работодателей в базе составляет 23501. Это означает, что на рынке труда представлено большое количество компаний и организаций, которые предлагают вакансии.\n",
    "* В базе данных содержится информация о 1362 регионах. Это указывает на географическое разнообразие вакансий и возможности трудоустройства в различных местах.\n",
    "* Сферы деятельности представлены в базе данных 294. Это свидетельствует о разнообразии отраслей и секторов экономики, в которых существуют вакансии."
   ]
  },
  {
   "cell_type": "markdown",
   "id": "8d62a9f3-f64e-4fe7-bdac-c4dffa16155e",
   "metadata": {
    "id": "8d62a9f3-f64e-4fe7-bdac-c4dffa16155e"
   },
   "source": [
    "# Юнит 4. Детальный анализ вакансий"
   ]
  },
  {
   "cell_type": "markdown",
   "id": "93053d3d-b284-481a-9cf7-012d7014c0e0",
   "metadata": {
    "id": "93053d3d-b284-481a-9cf7-012d7014c0e0"
   },
   "source": [
    "1. Напишите запрос, который позволит узнать, сколько (cnt) вакансий в каждом регионе (area).\n",
    "Отсортируйте по количеству вакансий в порядке убывания."
   ]
  },
  {
   "cell_type": "code",
   "execution_count": 556,
   "id": "3f069da6-fdc9-4ae7-b514-fafe2675efd3",
   "metadata": {
    "id": "3f069da6-fdc9-4ae7-b514-fafe2675efd3"
   },
   "outputs": [],
   "source": [
    "query_4_1 = f'''\n",
    "SELECT \n",
    "    COUNT(*) as cnt,\n",
    "    a.name\n",
    "FROM vacancies as v\n",
    "JOIN areas as a on v.area_id=a.id\n",
    "GROUP BY 2\n",
    "ORDER BY 1 desc\n",
    "LIMIT 5\n",
    "'''"
   ]
  },
  {
   "cell_type": "code",
   "execution_count": 557,
   "id": "P7QL86hrjhRJ",
   "metadata": {
    "id": "P7QL86hrjhRJ"
   },
   "outputs": [
    {
     "name": "stderr",
     "output_type": "stream",
     "text": [
      "C:\\Users\\user\\AppData\\Local\\Temp\\ipykernel_11672\\347208320.py:1: UserWarning: pandas only supports SQLAlchemy connectable (engine/connection) or database string URI or sqlite3 DBAPI2 connection. Other DBAPI2 objects are not tested. Please consider using SQLAlchemy.\n",
      "  df = pd.read_sql_query(query_4_1, connection)\n"
     ]
    },
    {
     "data": {
      "text/html": [
       "<div>\n",
       "<style scoped>\n",
       "    .dataframe tbody tr th:only-of-type {\n",
       "        vertical-align: middle;\n",
       "    }\n",
       "\n",
       "    .dataframe tbody tr th {\n",
       "        vertical-align: top;\n",
       "    }\n",
       "\n",
       "    .dataframe thead th {\n",
       "        text-align: right;\n",
       "    }\n",
       "</style>\n",
       "<table border=\"1\" class=\"dataframe\">\n",
       "  <thead>\n",
       "    <tr style=\"text-align: right;\">\n",
       "      <th></th>\n",
       "      <th>cnt</th>\n",
       "      <th>name</th>\n",
       "    </tr>\n",
       "  </thead>\n",
       "  <tbody>\n",
       "    <tr>\n",
       "      <th>0</th>\n",
       "      <td>5333</td>\n",
       "      <td>Москва</td>\n",
       "    </tr>\n",
       "    <tr>\n",
       "      <th>1</th>\n",
       "      <td>2851</td>\n",
       "      <td>Санкт-Петербург</td>\n",
       "    </tr>\n",
       "    <tr>\n",
       "      <th>2</th>\n",
       "      <td>2112</td>\n",
       "      <td>Минск</td>\n",
       "    </tr>\n",
       "    <tr>\n",
       "      <th>3</th>\n",
       "      <td>2006</td>\n",
       "      <td>Новосибирск</td>\n",
       "    </tr>\n",
       "    <tr>\n",
       "      <th>4</th>\n",
       "      <td>1892</td>\n",
       "      <td>Алматы</td>\n",
       "    </tr>\n",
       "  </tbody>\n",
       "</table>\n",
       "</div>"
      ],
      "text/plain": [
       "    cnt             name\n",
       "0  5333           Москва\n",
       "1  2851  Санкт-Петербург\n",
       "2  2112            Минск\n",
       "3  2006      Новосибирск\n",
       "4  1892           Алматы"
      ]
     },
     "execution_count": 557,
     "metadata": {},
     "output_type": "execute_result"
    }
   ],
   "source": [
    "df = pd.read_sql_query(query_4_1, connection)\n",
    "df"
   ]
  },
  {
   "cell_type": "markdown",
   "id": "4266f0b6-1646-492a-88b4-2f6a46502135",
   "metadata": {
    "id": "4266f0b6-1646-492a-88b4-2f6a46502135"
   },
   "source": [
    "2. Напишите запрос, чтобы определить у какого количества вакансий заполнено хотя бы одно из двух полей с зарплатой."
   ]
  },
  {
   "cell_type": "code",
   "execution_count": 558,
   "id": "0c44b350-72eb-4d65-8b54-a1fc449ba9fd",
   "metadata": {
    "id": "0c44b350-72eb-4d65-8b54-a1fc449ba9fd"
   },
   "outputs": [],
   "source": [
    "query_4_2 = f'''\n",
    "SELECT\n",
    "    COUNT(*) as Количество\n",
    "FROM vacancies as v\n",
    "WHERE v.salary_from is not null or v.salary_to is not null\n",
    "'''"
   ]
  },
  {
   "cell_type": "code",
   "execution_count": 559,
   "id": "rhvwaMDkoWTi",
   "metadata": {
    "id": "rhvwaMDkoWTi"
   },
   "outputs": [
    {
     "name": "stderr",
     "output_type": "stream",
     "text": [
      "C:\\Users\\user\\AppData\\Local\\Temp\\ipykernel_11672\\2168503709.py:1: UserWarning: pandas only supports SQLAlchemy connectable (engine/connection) or database string URI or sqlite3 DBAPI2 connection. Other DBAPI2 objects are not tested. Please consider using SQLAlchemy.\n",
      "  df = pd.read_sql_query(query_4_2, connection)\n"
     ]
    },
    {
     "data": {
      "text/html": [
       "<div>\n",
       "<style scoped>\n",
       "    .dataframe tbody tr th:only-of-type {\n",
       "        vertical-align: middle;\n",
       "    }\n",
       "\n",
       "    .dataframe tbody tr th {\n",
       "        vertical-align: top;\n",
       "    }\n",
       "\n",
       "    .dataframe thead th {\n",
       "        text-align: right;\n",
       "    }\n",
       "</style>\n",
       "<table border=\"1\" class=\"dataframe\">\n",
       "  <thead>\n",
       "    <tr style=\"text-align: right;\">\n",
       "      <th></th>\n",
       "      <th>Количество</th>\n",
       "    </tr>\n",
       "  </thead>\n",
       "  <tbody>\n",
       "    <tr>\n",
       "      <th>0</th>\n",
       "      <td>24073</td>\n",
       "    </tr>\n",
       "  </tbody>\n",
       "</table>\n",
       "</div>"
      ],
      "text/plain": [
       "   Количество\n",
       "0       24073"
      ]
     },
     "execution_count": 559,
     "metadata": {},
     "output_type": "execute_result"
    }
   ],
   "source": [
    "df = pd.read_sql_query(query_4_2, connection)\n",
    "df"
   ]
  },
  {
   "cell_type": "markdown",
   "id": "635c4d5d-f323-4c66-b428-50a088120aa0",
   "metadata": {
    "id": "635c4d5d-f323-4c66-b428-50a088120aa0"
   },
   "source": [
    "3. Найдите средние значения для нижней и верхней границы зарплатной вилки. Округлите значения до целого."
   ]
  },
  {
   "cell_type": "code",
   "execution_count": 560,
   "id": "603cdbe4-0ec3-4106-8eaf-c73fcdd29165",
   "metadata": {
    "id": "603cdbe4-0ec3-4106-8eaf-c73fcdd29165"
   },
   "outputs": [],
   "source": [
    "query_4_3 = f'''\n",
    "SELECT\n",
    "    round(avg(salary_from), 0) as \"Нижняя граница\",\n",
    "    round(avg(salary_to), 0) as \"Верхняя граница\"\n",
    "FROM vacancies as v\n",
    "\n",
    "'''"
   ]
  },
  {
   "cell_type": "code",
   "execution_count": 561,
   "id": "pswpAb66ovZZ",
   "metadata": {
    "id": "pswpAb66ovZZ"
   },
   "outputs": [
    {
     "name": "stderr",
     "output_type": "stream",
     "text": [
      "C:\\Users\\user\\AppData\\Local\\Temp\\ipykernel_11672\\2222372203.py:1: UserWarning: pandas only supports SQLAlchemy connectable (engine/connection) or database string URI or sqlite3 DBAPI2 connection. Other DBAPI2 objects are not tested. Please consider using SQLAlchemy.\n",
      "  df = pd.read_sql_query(query_4_3, connection)\n"
     ]
    },
    {
     "data": {
      "text/html": [
       "<div>\n",
       "<style scoped>\n",
       "    .dataframe tbody tr th:only-of-type {\n",
       "        vertical-align: middle;\n",
       "    }\n",
       "\n",
       "    .dataframe tbody tr th {\n",
       "        vertical-align: top;\n",
       "    }\n",
       "\n",
       "    .dataframe thead th {\n",
       "        text-align: right;\n",
       "    }\n",
       "</style>\n",
       "<table border=\"1\" class=\"dataframe\">\n",
       "  <thead>\n",
       "    <tr style=\"text-align: right;\">\n",
       "      <th></th>\n",
       "      <th>Нижняя граница</th>\n",
       "      <th>Верхняя граница</th>\n",
       "    </tr>\n",
       "  </thead>\n",
       "  <tbody>\n",
       "    <tr>\n",
       "      <th>0</th>\n",
       "      <td>71065.0</td>\n",
       "      <td>110537.0</td>\n",
       "    </tr>\n",
       "  </tbody>\n",
       "</table>\n",
       "</div>"
      ],
      "text/plain": [
       "   Нижняя граница  Верхняя граница\n",
       "0         71065.0         110537.0"
      ]
     },
     "execution_count": 561,
     "metadata": {},
     "output_type": "execute_result"
    }
   ],
   "source": [
    "df = pd.read_sql_query(query_4_3, connection)\n",
    "df"
   ]
  },
  {
   "cell_type": "markdown",
   "id": "f3fdaec9-5fd3-4260-9cf5-1d7406b628a5",
   "metadata": {
    "id": "f3fdaec9-5fd3-4260-9cf5-1d7406b628a5"
   },
   "source": [
    "4. Напишите запрос, который выведет количество вакансий для каждого сочетания типа рабочего графика (schedule) и типа трудоустройства (employment), используемого в вакансиях. Результат отсортируйте по убыванию количества.\n"
   ]
  },
  {
   "cell_type": "code",
   "execution_count": 562,
   "id": "1ea710ec-871b-431e-9462-c7d0fd87011b",
   "metadata": {
    "id": "1ea710ec-871b-431e-9462-c7d0fd87011b"
   },
   "outputs": [],
   "source": [
    "query_4_4 = f'''\n",
    "SELECT\n",
    "    COUNT(*),\n",
    "    schedule,\n",
    "    employment\n",
    "FROM vacancies as v\n",
    "GROUP BY 2, 3\n",
    "ORDER BY 1 desc\n",
    "'''"
   ]
  },
  {
   "cell_type": "code",
   "execution_count": 563,
   "id": "lGUVqavdo4JQ",
   "metadata": {
    "id": "lGUVqavdo4JQ"
   },
   "outputs": [
    {
     "name": "stderr",
     "output_type": "stream",
     "text": [
      "C:\\Users\\user\\AppData\\Local\\Temp\\ipykernel_11672\\2981602351.py:1: UserWarning: pandas only supports SQLAlchemy connectable (engine/connection) or database string URI or sqlite3 DBAPI2 connection. Other DBAPI2 objects are not tested. Please consider using SQLAlchemy.\n",
      "  df = pd.read_sql_query(query_4_4, connection)\n"
     ]
    },
    {
     "data": {
      "text/html": [
       "<div>\n",
       "<style scoped>\n",
       "    .dataframe tbody tr th:only-of-type {\n",
       "        vertical-align: middle;\n",
       "    }\n",
       "\n",
       "    .dataframe tbody tr th {\n",
       "        vertical-align: top;\n",
       "    }\n",
       "\n",
       "    .dataframe thead th {\n",
       "        text-align: right;\n",
       "    }\n",
       "</style>\n",
       "<table border=\"1\" class=\"dataframe\">\n",
       "  <thead>\n",
       "    <tr style=\"text-align: right;\">\n",
       "      <th></th>\n",
       "      <th>count</th>\n",
       "      <th>schedule</th>\n",
       "      <th>employment</th>\n",
       "    </tr>\n",
       "  </thead>\n",
       "  <tbody>\n",
       "    <tr>\n",
       "      <th>0</th>\n",
       "      <td>35367</td>\n",
       "      <td>Полный день</td>\n",
       "      <td>Полная занятость</td>\n",
       "    </tr>\n",
       "    <tr>\n",
       "      <th>1</th>\n",
       "      <td>7802</td>\n",
       "      <td>Удаленная работа</td>\n",
       "      <td>Полная занятость</td>\n",
       "    </tr>\n",
       "    <tr>\n",
       "      <th>2</th>\n",
       "      <td>1593</td>\n",
       "      <td>Гибкий график</td>\n",
       "      <td>Полная занятость</td>\n",
       "    </tr>\n",
       "    <tr>\n",
       "      <th>3</th>\n",
       "      <td>1312</td>\n",
       "      <td>Удаленная работа</td>\n",
       "      <td>Частичная занятость</td>\n",
       "    </tr>\n",
       "    <tr>\n",
       "      <th>4</th>\n",
       "      <td>940</td>\n",
       "      <td>Сменный график</td>\n",
       "      <td>Полная занятость</td>\n",
       "    </tr>\n",
       "    <tr>\n",
       "      <th>5</th>\n",
       "      <td>569</td>\n",
       "      <td>Полный день</td>\n",
       "      <td>Стажировка</td>\n",
       "    </tr>\n",
       "    <tr>\n",
       "      <th>6</th>\n",
       "      <td>367</td>\n",
       "      <td>Вахтовый метод</td>\n",
       "      <td>Полная занятость</td>\n",
       "    </tr>\n",
       "    <tr>\n",
       "      <th>7</th>\n",
       "      <td>347</td>\n",
       "      <td>Полный день</td>\n",
       "      <td>Частичная занятость</td>\n",
       "    </tr>\n",
       "    <tr>\n",
       "      <th>8</th>\n",
       "      <td>312</td>\n",
       "      <td>Гибкий график</td>\n",
       "      <td>Частичная занятость</td>\n",
       "    </tr>\n",
       "    <tr>\n",
       "      <th>9</th>\n",
       "      <td>141</td>\n",
       "      <td>Полный день</td>\n",
       "      <td>Проектная работа</td>\n",
       "    </tr>\n",
       "    <tr>\n",
       "      <th>10</th>\n",
       "      <td>133</td>\n",
       "      <td>Удаленная работа</td>\n",
       "      <td>Проектная работа</td>\n",
       "    </tr>\n",
       "    <tr>\n",
       "      <th>11</th>\n",
       "      <td>116</td>\n",
       "      <td>Гибкий график</td>\n",
       "      <td>Стажировка</td>\n",
       "    </tr>\n",
       "    <tr>\n",
       "      <th>12</th>\n",
       "      <td>101</td>\n",
       "      <td>Сменный график</td>\n",
       "      <td>Частичная занятость</td>\n",
       "    </tr>\n",
       "    <tr>\n",
       "      <th>13</th>\n",
       "      <td>64</td>\n",
       "      <td>Удаленная работа</td>\n",
       "      <td>Стажировка</td>\n",
       "    </tr>\n",
       "    <tr>\n",
       "      <th>14</th>\n",
       "      <td>18</td>\n",
       "      <td>Гибкий график</td>\n",
       "      <td>Проектная работа</td>\n",
       "    </tr>\n",
       "    <tr>\n",
       "      <th>15</th>\n",
       "      <td>12</td>\n",
       "      <td>Сменный график</td>\n",
       "      <td>Стажировка</td>\n",
       "    </tr>\n",
       "    <tr>\n",
       "      <th>16</th>\n",
       "      <td>2</td>\n",
       "      <td>Вахтовый метод</td>\n",
       "      <td>Проектная работа</td>\n",
       "    </tr>\n",
       "    <tr>\n",
       "      <th>17</th>\n",
       "      <td>1</td>\n",
       "      <td>Сменный график</td>\n",
       "      <td>Проектная работа</td>\n",
       "    </tr>\n",
       "  </tbody>\n",
       "</table>\n",
       "</div>"
      ],
      "text/plain": [
       "    count          schedule           employment\n",
       "0   35367       Полный день     Полная занятость\n",
       "1    7802  Удаленная работа     Полная занятость\n",
       "2    1593     Гибкий график     Полная занятость\n",
       "3    1312  Удаленная работа  Частичная занятость\n",
       "4     940    Сменный график     Полная занятость\n",
       "5     569       Полный день           Стажировка\n",
       "6     367    Вахтовый метод     Полная занятость\n",
       "7     347       Полный день  Частичная занятость\n",
       "8     312     Гибкий график  Частичная занятость\n",
       "9     141       Полный день     Проектная работа\n",
       "10    133  Удаленная работа     Проектная работа\n",
       "11    116     Гибкий график           Стажировка\n",
       "12    101    Сменный график  Частичная занятость\n",
       "13     64  Удаленная работа           Стажировка\n",
       "14     18     Гибкий график     Проектная работа\n",
       "15     12    Сменный график           Стажировка\n",
       "16      2    Вахтовый метод     Проектная работа\n",
       "17      1    Сменный график     Проектная работа"
      ]
     },
     "execution_count": 563,
     "metadata": {},
     "output_type": "execute_result"
    }
   ],
   "source": [
    "df = pd.read_sql_query(query_4_4, connection)\n",
    "df"
   ]
  },
  {
   "cell_type": "markdown",
   "id": "0136ffee-0ead-4a6b-b608-61d1c753a438",
   "metadata": {
    "id": "0136ffee-0ead-4a6b-b608-61d1c753a438"
   },
   "source": [
    "5. Напишите запрос, выводящий значения поля Требуемый опыт работы (experience) в порядке возрастания количества вакансий, в которых указан данный вариант опыта. "
   ]
  },
  {
   "cell_type": "code",
   "execution_count": 564,
   "id": "5b3a8e79-f7ab-4008-b767-12aea3a205ea",
   "metadata": {
    "id": "5b3a8e79-f7ab-4008-b767-12aea3a205ea"
   },
   "outputs": [],
   "source": [
    "query_4_5 = f'''\n",
    "    SELECT \n",
    "        COUNT(v.id) AS cnt,\n",
    "        v.experience AS \"Требуемый опыт работы\"\n",
    "    FROM vacancies v\n",
    "    GROUP BY v.experience\n",
    "    ORDER BY 1\n",
    "    '''"
   ]
  },
  {
   "cell_type": "code",
   "execution_count": 565,
   "id": "3Is64Y-hpDpq",
   "metadata": {
    "id": "3Is64Y-hpDpq"
   },
   "outputs": [
    {
     "name": "stderr",
     "output_type": "stream",
     "text": [
      "C:\\Users\\user\\AppData\\Local\\Temp\\ipykernel_11672\\2601166264.py:1: UserWarning: pandas only supports SQLAlchemy connectable (engine/connection) or database string URI or sqlite3 DBAPI2 connection. Other DBAPI2 objects are not tested. Please consider using SQLAlchemy.\n",
      "  df = pd.read_sql_query(query_4_5, connection)\n"
     ]
    },
    {
     "data": {
      "text/html": [
       "<div>\n",
       "<style scoped>\n",
       "    .dataframe tbody tr th:only-of-type {\n",
       "        vertical-align: middle;\n",
       "    }\n",
       "\n",
       "    .dataframe tbody tr th {\n",
       "        vertical-align: top;\n",
       "    }\n",
       "\n",
       "    .dataframe thead th {\n",
       "        text-align: right;\n",
       "    }\n",
       "</style>\n",
       "<table border=\"1\" class=\"dataframe\">\n",
       "  <thead>\n",
       "    <tr style=\"text-align: right;\">\n",
       "      <th></th>\n",
       "      <th>cnt</th>\n",
       "      <th>Требуемый опыт работы</th>\n",
       "    </tr>\n",
       "  </thead>\n",
       "  <tbody>\n",
       "    <tr>\n",
       "      <th>0</th>\n",
       "      <td>1337</td>\n",
       "      <td>Более 6 лет</td>\n",
       "    </tr>\n",
       "    <tr>\n",
       "      <th>1</th>\n",
       "      <td>7197</td>\n",
       "      <td>Нет опыта</td>\n",
       "    </tr>\n",
       "    <tr>\n",
       "      <th>2</th>\n",
       "      <td>14511</td>\n",
       "      <td>От 3 до 6 лет</td>\n",
       "    </tr>\n",
       "    <tr>\n",
       "      <th>3</th>\n",
       "      <td>26152</td>\n",
       "      <td>От 1 года до 3 лет</td>\n",
       "    </tr>\n",
       "  </tbody>\n",
       "</table>\n",
       "</div>"
      ],
      "text/plain": [
       "     cnt Требуемый опыт работы\n",
       "0   1337           Более 6 лет\n",
       "1   7197             Нет опыта\n",
       "2  14511         От 3 до 6 лет\n",
       "3  26152    От 1 года до 3 лет"
      ]
     },
     "execution_count": 565,
     "metadata": {},
     "output_type": "execute_result"
    }
   ],
   "source": [
    "df = pd.read_sql_query(query_4_5, connection)\n",
    "df"
   ]
  },
  {
   "cell_type": "markdown",
   "id": "oq2b7n1QpIka",
   "metadata": {
    "id": "oq2b7n1QpIka"
   },
   "source": [
    "***"
   ]
  },
  {
   "cell_type": "markdown",
   "id": "ebf43fd9",
   "metadata": {},
   "source": [
    "### Выводы по детальному анализу вакансий:\n",
    "* Пятёрка лидеров по количеству вакансий, включает Москву, Санкт-Петербург, Минск, Новосибирск и Алматы. Это города, в которых предложение вакансий наиболее высоко, что может указывать на их значимость и развитость как центров бизнеса и экономики.\n",
    "* Информация о зарплате указана для 24073 вакансий. Это позволяет провести анализ зарплатного уровня и оценить рыночную стоимость работы.\n",
    "* Среднее значение для нижней зарплатной вилки составляет 71065, а для верхней зарплатной вилки - 110537. Это диапазон зарплат, предлагаемых во многих вакансиях, и может служить ориентиром для соискателей в планировании своей заработной платы.\n",
    "* Опыт работы от 1 года до 3 лет является наиболее востребованным. Это может указывать на то, что многие работодатели ищут кандидатов с определенным уровнем опыта, который считается оптимальным для выполнения задач в соответствующей области.\n",
    "* Полная занятость является наиболее популярным типом занятости. Это означает, что большинство работодателей ищут сотрудников, готовых работать на полный рабочий день."
   ]
  },
  {
   "cell_type": "markdown",
   "id": "7ea20ab6-04a7-40a0-adec-443a0e5a42c3",
   "metadata": {
    "id": "7ea20ab6-04a7-40a0-adec-443a0e5a42c3"
   },
   "source": [
    "# Юнит 5. Анализ работодателей"
   ]
  },
  {
   "cell_type": "markdown",
   "id": "968aed80-74ef-4ffb-b5bf-c65b84e9caea",
   "metadata": {
    "id": "968aed80-74ef-4ffb-b5bf-c65b84e9caea"
   },
   "source": [
    "1. Напишите запрос, который позволит узнать, какие работодатели находятся на первом и пятом месте по количеству вакансий."
   ]
  },
  {
   "cell_type": "code",
   "execution_count": 566,
   "id": "f2d62796-d400-4ec1-a675-88112739a50e",
   "metadata": {
    "id": "f2d62796-d400-4ec1-a675-88112739a50e"
   },
   "outputs": [],
   "source": [
    "query_5_1 = f'''\n",
    "\n",
    "(SELECT\n",
    "    e.name,\n",
    "    COUNT(v.name)\n",
    "FROM employers as e\n",
    "JOIN vacancies as v on v.employer_id=e.id\n",
    "GROUP BY 1\n",
    "ORDER BY 2 desc\n",
    "LIMIT 1)\n",
    "UNION\n",
    "(SELECT\n",
    "    e.name,\n",
    "    COUNT(v.name)\n",
    "FROM employers as e\n",
    "JOIN vacancies as v on v.employer_id=e.id\n",
    "GROUP BY 1\n",
    "ORDER BY 2 desc\n",
    "OFFSET 4\n",
    "LIMIT 1)\n",
    "ORDER BY 2 desc\n",
    "'''"
   ]
  },
  {
   "cell_type": "code",
   "execution_count": 567,
   "id": "64tOMkAxqkQk",
   "metadata": {
    "id": "64tOMkAxqkQk"
   },
   "outputs": [
    {
     "name": "stderr",
     "output_type": "stream",
     "text": [
      "C:\\Users\\user\\AppData\\Local\\Temp\\ipykernel_11672\\1792814825.py:1: UserWarning: pandas only supports SQLAlchemy connectable (engine/connection) or database string URI or sqlite3 DBAPI2 connection. Other DBAPI2 objects are not tested. Please consider using SQLAlchemy.\n",
      "  df = pd.read_sql_query(query_5_1, connection)\n"
     ]
    },
    {
     "data": {
      "text/html": [
       "<div>\n",
       "<style scoped>\n",
       "    .dataframe tbody tr th:only-of-type {\n",
       "        vertical-align: middle;\n",
       "    }\n",
       "\n",
       "    .dataframe tbody tr th {\n",
       "        vertical-align: top;\n",
       "    }\n",
       "\n",
       "    .dataframe thead th {\n",
       "        text-align: right;\n",
       "    }\n",
       "</style>\n",
       "<table border=\"1\" class=\"dataframe\">\n",
       "  <thead>\n",
       "    <tr style=\"text-align: right;\">\n",
       "      <th></th>\n",
       "      <th>name</th>\n",
       "      <th>count</th>\n",
       "    </tr>\n",
       "  </thead>\n",
       "  <tbody>\n",
       "    <tr>\n",
       "      <th>0</th>\n",
       "      <td>Яндекс</td>\n",
       "      <td>1933</td>\n",
       "    </tr>\n",
       "    <tr>\n",
       "      <th>1</th>\n",
       "      <td>Газпром нефть</td>\n",
       "      <td>331</td>\n",
       "    </tr>\n",
       "  </tbody>\n",
       "</table>\n",
       "</div>"
      ],
      "text/plain": [
       "            name  count\n",
       "0         Яндекс   1933\n",
       "1  Газпром нефть    331"
      ]
     },
     "execution_count": 567,
     "metadata": {},
     "output_type": "execute_result"
    }
   ],
   "source": [
    "df = pd.read_sql_query(query_5_1, connection)\n",
    "df"
   ]
  },
  {
   "cell_type": "markdown",
   "id": "68377cfc-b378-43dc-ab7d-1195abf2c515",
   "metadata": {
    "id": "68377cfc-b378-43dc-ab7d-1195abf2c515"
   },
   "source": [
    "2. Напишите запрос, который для каждого региона выведет количество работодателей и вакансий в нём.\n",
    "Среди регионов, в которых нет вакансий, найдите тот, в котором наибольшее количество работодателей.\n"
   ]
  },
  {
   "cell_type": "code",
   "execution_count": 568,
   "id": "dd7df27a-e3e8-412e-a21a-5d389b71e891",
   "metadata": {
    "id": "dd7df27a-e3e8-412e-a21a-5d389b71e891"
   },
   "outputs": [],
   "source": [
    "query_5_2 = f'''\n",
    "\n",
    "SELECT DISTINCT\n",
    "    a.name, \n",
    "    COUNT(e.id) as \"Количество работодателей\", \n",
    "    COUNT(v.id) as \"Количество вакансий\"\n",
    "FROM areas as a\n",
    "LEFT JOIN vacancies as v on a.id=v.area_id\n",
    "LEFT JOIN employers e on e.area = a.id\n",
    "GROUP BY 1\n",
    "HAVING COUNT(v.id) = 0\n",
    "ORDER BY 2 desc\n",
    "LIMIT 5\n",
    "'''"
   ]
  },
  {
   "cell_type": "code",
   "execution_count": 569,
   "id": "x1ikWbydrbf6",
   "metadata": {
    "id": "x1ikWbydrbf6"
   },
   "outputs": [
    {
     "name": "stderr",
     "output_type": "stream",
     "text": [
      "C:\\Users\\user\\AppData\\Local\\Temp\\ipykernel_11672\\3341481329.py:1: UserWarning: pandas only supports SQLAlchemy connectable (engine/connection) or database string URI or sqlite3 DBAPI2 connection. Other DBAPI2 objects are not tested. Please consider using SQLAlchemy.\n",
      "  df = pd.read_sql_query(query_5_2, connection)\n"
     ]
    },
    {
     "data": {
      "text/html": [
       "<div>\n",
       "<style scoped>\n",
       "    .dataframe tbody tr th:only-of-type {\n",
       "        vertical-align: middle;\n",
       "    }\n",
       "\n",
       "    .dataframe tbody tr th {\n",
       "        vertical-align: top;\n",
       "    }\n",
       "\n",
       "    .dataframe thead th {\n",
       "        text-align: right;\n",
       "    }\n",
       "</style>\n",
       "<table border=\"1\" class=\"dataframe\">\n",
       "  <thead>\n",
       "    <tr style=\"text-align: right;\">\n",
       "      <th></th>\n",
       "      <th>name</th>\n",
       "      <th>Количество работодателей</th>\n",
       "      <th>Количество вакансий</th>\n",
       "    </tr>\n",
       "  </thead>\n",
       "  <tbody>\n",
       "    <tr>\n",
       "      <th>0</th>\n",
       "      <td>Россия</td>\n",
       "      <td>410</td>\n",
       "      <td>0</td>\n",
       "    </tr>\n",
       "    <tr>\n",
       "      <th>1</th>\n",
       "      <td>Казахстан</td>\n",
       "      <td>207</td>\n",
       "      <td>0</td>\n",
       "    </tr>\n",
       "    <tr>\n",
       "      <th>2</th>\n",
       "      <td>Московская область</td>\n",
       "      <td>75</td>\n",
       "      <td>0</td>\n",
       "    </tr>\n",
       "    <tr>\n",
       "      <th>3</th>\n",
       "      <td>Краснодарский край</td>\n",
       "      <td>19</td>\n",
       "      <td>0</td>\n",
       "    </tr>\n",
       "    <tr>\n",
       "      <th>4</th>\n",
       "      <td>Беларусь</td>\n",
       "      <td>18</td>\n",
       "      <td>0</td>\n",
       "    </tr>\n",
       "  </tbody>\n",
       "</table>\n",
       "</div>"
      ],
      "text/plain": [
       "                 name  Количество работодателей  Количество вакансий\n",
       "0              Россия                       410                    0\n",
       "1           Казахстан                       207                    0\n",
       "2  Московская область                        75                    0\n",
       "3  Краснодарский край                        19                    0\n",
       "4            Беларусь                        18                    0"
      ]
     },
     "execution_count": 569,
     "metadata": {},
     "output_type": "execute_result"
    }
   ],
   "source": [
    "df = pd.read_sql_query(query_5_2, connection)\n",
    "df"
   ]
  },
  {
   "cell_type": "markdown",
   "id": "f2fe0acb-ab1a-4e15-9326-2560e22d73c1",
   "metadata": {
    "id": "f2fe0acb-ab1a-4e15-9326-2560e22d73c1"
   },
   "source": [
    "3. Для каждого работодателя посчитайте количество регионов, в которых он публикует свои вакансии. Отсортируйте результат по убыванию количества.\n"
   ]
  },
  {
   "cell_type": "code",
   "execution_count": 570,
   "id": "6271f8ad-bd2e-4196-ae4a-5b39c4c1010e",
   "metadata": {
    "id": "6271f8ad-bd2e-4196-ae4a-5b39c4c1010e"
   },
   "outputs": [],
   "source": [
    "query_5_3 = f'''\n",
    "SELECT \n",
    "    e.name as \"Работодатель\", \n",
    "    COUNT(DISTINCT v.area_id) as \"Количество регионов\"\n",
    "FROM vacancies as v\n",
    "LEFT JOIN areas as a on a.id=v.area_id\n",
    "LEFT JOIN employers e on v.employer_id = e.id\n",
    "GROUP BY 1\n",
    "ORDER BY 2 desc\n",
    "LIMIT 5\n",
    "'''"
   ]
  },
  {
   "cell_type": "code",
   "execution_count": 571,
   "id": "1EIvX3HasH4F",
   "metadata": {
    "id": "1EIvX3HasH4F"
   },
   "outputs": [
    {
     "name": "stderr",
     "output_type": "stream",
     "text": [
      "C:\\Users\\user\\AppData\\Local\\Temp\\ipykernel_11672\\2398953733.py:1: UserWarning: pandas only supports SQLAlchemy connectable (engine/connection) or database string URI or sqlite3 DBAPI2 connection. Other DBAPI2 objects are not tested. Please consider using SQLAlchemy.\n",
      "  df = pd.read_sql_query(query_5_3, connection)\n"
     ]
    },
    {
     "data": {
      "text/html": [
       "<div>\n",
       "<style scoped>\n",
       "    .dataframe tbody tr th:only-of-type {\n",
       "        vertical-align: middle;\n",
       "    }\n",
       "\n",
       "    .dataframe tbody tr th {\n",
       "        vertical-align: top;\n",
       "    }\n",
       "\n",
       "    .dataframe thead th {\n",
       "        text-align: right;\n",
       "    }\n",
       "</style>\n",
       "<table border=\"1\" class=\"dataframe\">\n",
       "  <thead>\n",
       "    <tr style=\"text-align: right;\">\n",
       "      <th></th>\n",
       "      <th>Работодатель</th>\n",
       "      <th>Количество регионов</th>\n",
       "    </tr>\n",
       "  </thead>\n",
       "  <tbody>\n",
       "    <tr>\n",
       "      <th>0</th>\n",
       "      <td>Яндекс</td>\n",
       "      <td>181</td>\n",
       "    </tr>\n",
       "    <tr>\n",
       "      <th>1</th>\n",
       "      <td>Ростелеком</td>\n",
       "      <td>152</td>\n",
       "    </tr>\n",
       "    <tr>\n",
       "      <th>2</th>\n",
       "      <td>Спецремонт</td>\n",
       "      <td>116</td>\n",
       "    </tr>\n",
       "    <tr>\n",
       "      <th>3</th>\n",
       "      <td>Поляков Денис Иванович</td>\n",
       "      <td>88</td>\n",
       "    </tr>\n",
       "    <tr>\n",
       "      <th>4</th>\n",
       "      <td>ООО ЕФИН</td>\n",
       "      <td>71</td>\n",
       "    </tr>\n",
       "  </tbody>\n",
       "</table>\n",
       "</div>"
      ],
      "text/plain": [
       "             Работодатель  Количество регионов\n",
       "0                  Яндекс                  181\n",
       "1              Ростелеком                  152\n",
       "2              Спецремонт                  116\n",
       "3  Поляков Денис Иванович                   88\n",
       "4               ООО ЕФИН                    71"
      ]
     },
     "execution_count": 571,
     "metadata": {},
     "output_type": "execute_result"
    }
   ],
   "source": [
    "df = pd.read_sql_query(query_5_3, connection)\n",
    "df"
   ]
  },
  {
   "cell_type": "markdown",
   "id": "eab2206d-d95b-468b-8e5f-34381abf0ce7",
   "metadata": {
    "id": "eab2206d-d95b-468b-8e5f-34381abf0ce7"
   },
   "source": [
    "4. Напишите запрос для подсчёта количества работодателей, у которых не указана сфера деятельности. "
   ]
  },
  {
   "cell_type": "code",
   "execution_count": 572,
   "id": "80defb23-bfb1-4a18-8be6-bf36aa7165d5",
   "metadata": {
    "id": "80defb23-bfb1-4a18-8be6-bf36aa7165d5"
   },
   "outputs": [],
   "source": [
    "query_5_4 = f'''\n",
    "SELECT \n",
    "    COUNT(e.name)\n",
    "FROM employers as e \n",
    "LEFT JOIN employers_industries AS ei ON e.id=ei.employer_id\n",
    "WHERE\n",
    "    ei.employer_id is NULL\n",
    "'''"
   ]
  },
  {
   "cell_type": "code",
   "execution_count": 573,
   "id": "Dp_yCx6ysQSu",
   "metadata": {
    "id": "Dp_yCx6ysQSu"
   },
   "outputs": [
    {
     "name": "stderr",
     "output_type": "stream",
     "text": [
      "C:\\Users\\user\\AppData\\Local\\Temp\\ipykernel_11672\\3114411492.py:1: UserWarning: pandas only supports SQLAlchemy connectable (engine/connection) or database string URI or sqlite3 DBAPI2 connection. Other DBAPI2 objects are not tested. Please consider using SQLAlchemy.\n",
      "  df = pd.read_sql_query(query_5_4, connection)\n"
     ]
    },
    {
     "data": {
      "text/html": [
       "<div>\n",
       "<style scoped>\n",
       "    .dataframe tbody tr th:only-of-type {\n",
       "        vertical-align: middle;\n",
       "    }\n",
       "\n",
       "    .dataframe tbody tr th {\n",
       "        vertical-align: top;\n",
       "    }\n",
       "\n",
       "    .dataframe thead th {\n",
       "        text-align: right;\n",
       "    }\n",
       "</style>\n",
       "<table border=\"1\" class=\"dataframe\">\n",
       "  <thead>\n",
       "    <tr style=\"text-align: right;\">\n",
       "      <th></th>\n",
       "      <th>count</th>\n",
       "    </tr>\n",
       "  </thead>\n",
       "  <tbody>\n",
       "    <tr>\n",
       "      <th>0</th>\n",
       "      <td>8419</td>\n",
       "    </tr>\n",
       "  </tbody>\n",
       "</table>\n",
       "</div>"
      ],
      "text/plain": [
       "   count\n",
       "0   8419"
      ]
     },
     "execution_count": 573,
     "metadata": {},
     "output_type": "execute_result"
    }
   ],
   "source": [
    "df = pd.read_sql_query(query_5_4, connection)\n",
    "df"
   ]
  },
  {
   "cell_type": "markdown",
   "id": "0112af31-f6b0-4e3b-82ab-71296e752e5e",
   "metadata": {
    "id": "0112af31-f6b0-4e3b-82ab-71296e752e5e"
   },
   "source": [
    "5. Напишите запрос, чтобы узнать название компании, находящейся на третьем месте в алфавитном списке (по названию) компаний, у которых указано четыре сферы деятельности. "
   ]
  },
  {
   "cell_type": "code",
   "execution_count": 574,
   "id": "973b0cfc-a972-470a-8b4a-68744ef220c4",
   "metadata": {
    "id": "973b0cfc-a972-470a-8b4a-68744ef220c4"
   },
   "outputs": [],
   "source": [
    "query_5_5 = f'''\n",
    "    SELECT\n",
    "        e.name AS \"Названия компаний\",\n",
    "        COUNT(ei.industry_id) AS \"Кол-во сфер деятельности\"\n",
    "    FROM employers e\n",
    "    FULL JOIN employers_industries ei ON ei.employer_id = e.id\n",
    "    GROUP BY e.name\n",
    "    HAVING COUNT(ei.industry_id) = 4\n",
    "    ORDER BY 1\n",
    "    OFFSET 2\n",
    "    LIMIT 1\n",
    "    '''"
   ]
  },
  {
   "cell_type": "code",
   "execution_count": 575,
   "id": "xsPtpp8EsaED",
   "metadata": {
    "id": "xsPtpp8EsaED"
   },
   "outputs": [
    {
     "name": "stderr",
     "output_type": "stream",
     "text": [
      "C:\\Users\\user\\AppData\\Local\\Temp\\ipykernel_11672\\1650419958.py:1: UserWarning: pandas only supports SQLAlchemy connectable (engine/connection) or database string URI or sqlite3 DBAPI2 connection. Other DBAPI2 objects are not tested. Please consider using SQLAlchemy.\n",
      "  df = pd.read_sql_query(query_5_5, connection)\n"
     ]
    },
    {
     "data": {
      "text/html": [
       "<div>\n",
       "<style scoped>\n",
       "    .dataframe tbody tr th:only-of-type {\n",
       "        vertical-align: middle;\n",
       "    }\n",
       "\n",
       "    .dataframe tbody tr th {\n",
       "        vertical-align: top;\n",
       "    }\n",
       "\n",
       "    .dataframe thead th {\n",
       "        text-align: right;\n",
       "    }\n",
       "</style>\n",
       "<table border=\"1\" class=\"dataframe\">\n",
       "  <thead>\n",
       "    <tr style=\"text-align: right;\">\n",
       "      <th></th>\n",
       "      <th>Названия компаний</th>\n",
       "      <th>Кол-во сфер деятельности</th>\n",
       "    </tr>\n",
       "  </thead>\n",
       "  <tbody>\n",
       "    <tr>\n",
       "      <th>0</th>\n",
       "      <td>2ГИС</td>\n",
       "      <td>4</td>\n",
       "    </tr>\n",
       "  </tbody>\n",
       "</table>\n",
       "</div>"
      ],
      "text/plain": [
       "  Названия компаний  Кол-во сфер деятельности\n",
       "0              2ГИС                         4"
      ]
     },
     "execution_count": 575,
     "metadata": {},
     "output_type": "execute_result"
    }
   ],
   "source": [
    "df = pd.read_sql_query(query_5_5, connection)\n",
    "df"
   ]
  },
  {
   "cell_type": "markdown",
   "id": "3bfcfdaf-755d-4d2b-8ed8-326201dc07ab",
   "metadata": {
    "id": "3bfcfdaf-755d-4d2b-8ed8-326201dc07ab"
   },
   "source": [
    "6. С помощью запроса выясните, у какого количества работодателей в качестве сферы деятельности указана Разработка программного обеспечения.\n"
   ]
  },
  {
   "cell_type": "code",
   "execution_count": 576,
   "id": "ad3f270f-2991-47eb-929b-e8f88a55b0d1",
   "metadata": {
    "id": "ad3f270f-2991-47eb-929b-e8f88a55b0d1"
   },
   "outputs": [],
   "source": [
    "query_5_6 = f'''\n",
    "    SELECT\n",
    "        COUNT(ei.employer_id) AS \"Кол-во работодателей\"\n",
    "    FROM employers_industries ei\n",
    "    LEFT JOIN industries i ON ei.industry_id = i.id\n",
    "    WHERE i.name = 'Разработка программного обеспечения'\n",
    "    '''"
   ]
  },
  {
   "cell_type": "code",
   "execution_count": 577,
   "id": "H72qxWM0shPR",
   "metadata": {
    "id": "H72qxWM0shPR"
   },
   "outputs": [
    {
     "name": "stderr",
     "output_type": "stream",
     "text": [
      "C:\\Users\\user\\AppData\\Local\\Temp\\ipykernel_11672\\1169039133.py:1: UserWarning: pandas only supports SQLAlchemy connectable (engine/connection) or database string URI or sqlite3 DBAPI2 connection. Other DBAPI2 objects are not tested. Please consider using SQLAlchemy.\n",
      "  df = pd.read_sql_query(query_5_6, connection)\n"
     ]
    },
    {
     "data": {
      "text/html": [
       "<div>\n",
       "<style scoped>\n",
       "    .dataframe tbody tr th:only-of-type {\n",
       "        vertical-align: middle;\n",
       "    }\n",
       "\n",
       "    .dataframe tbody tr th {\n",
       "        vertical-align: top;\n",
       "    }\n",
       "\n",
       "    .dataframe thead th {\n",
       "        text-align: right;\n",
       "    }\n",
       "</style>\n",
       "<table border=\"1\" class=\"dataframe\">\n",
       "  <thead>\n",
       "    <tr style=\"text-align: right;\">\n",
       "      <th></th>\n",
       "      <th>Кол-во работодателей</th>\n",
       "    </tr>\n",
       "  </thead>\n",
       "  <tbody>\n",
       "    <tr>\n",
       "      <th>0</th>\n",
       "      <td>3553</td>\n",
       "    </tr>\n",
       "  </tbody>\n",
       "</table>\n",
       "</div>"
      ],
      "text/plain": [
       "   Кол-во работодателей\n",
       "0                  3553"
      ]
     },
     "execution_count": 577,
     "metadata": {},
     "output_type": "execute_result"
    }
   ],
   "source": [
    "df = pd.read_sql_query(query_5_6, connection)\n",
    "df"
   ]
  },
  {
   "cell_type": "markdown",
   "id": "7b02bb86-0546-40fb-94a4-242f050a5c57",
   "metadata": {
    "id": "7b02bb86-0546-40fb-94a4-242f050a5c57"
   },
   "source": [
    "7. Для компании «Яндекс» выведите список регионов-миллионников, в которых представлены вакансии компании, вместе с количеством вакансий в этих регионах. Также добавьте строку Total с общим количеством вакансий компании. Результат отсортируйте по возрастанию количества.\n",
    "\n",
    "Список городов-милионников надо взять [отсюда](https://ru.wikipedia.org/wiki/%D0%93%D0%BE%D1%80%D0%BE%D0%B4%D0%B0-%D0%BC%D0%B8%D0%BB%D0%BB%D0%B8%D0%BE%D0%BD%D0%B5%D1%80%D1%8B_%D0%A0%D0%BE%D1%81%D1%81%D0%B8%D0%B8). \n",
    "\n",
    "Если возникнут трудности с этим задание посмотрите материалы модуля  PYTHON-17. Как получать данные из веб-источников и API. "
   ]
  },
  {
   "cell_type": "code",
   "execution_count": 578,
   "id": "5a0e32a4-e68a-4365-8a39-2fe24c542c36",
   "metadata": {
    "id": "5a0e32a4-e68a-4365-8a39-2fe24c542c36"
   },
   "outputs": [],
   "source": [
    "query_5_7 = f'''\n",
    "    SELECT\n",
    "        a.name AS \"Регионы-миллионники\",\n",
    "        COUNT(v.id) \"Кол-во вакансий\"\n",
    "    FROM vacancies v\n",
    "    LEFT JOIN employers e on v.employer_id = e.id\n",
    "    LEFT JOIN areas a on v.area_id = a.id\n",
    "    WHERE e.name = 'Яндекс' and a.name in ('Москва', 'Санкт-Петербург', 'Новосибирск', 'Екатеринбург', 'Казань', 'Нижний Новгород', \n",
    "    'Челябинск', 'Красноярск', 'Самара', 'Уфа', 'Ростов-на-Дону', 'Омск', 'Краснодар', 'Воронеж', 'Пермь', 'Волгоград')\n",
    "    GROUP BY a.name\n",
    "\n",
    "    UNION ALL\n",
    "\n",
    "    SELECT \n",
    "        'Total', \n",
    "        COUNT(*)\n",
    "    FROM vacancies v\n",
    "    LEFT JOIN employers e on v.employer_id = e.id\n",
    "    LEFT JOIN areas a on v.area_id = a.id\n",
    "    WHERE e.name = 'Яндекс' and a.name in ('Москва', 'Санкт-Петербург', 'Новосибирск', 'Екатеринбург', 'Казань', 'Нижний Новгород', \n",
    "    'Челябинск', 'Красноярск', 'Самара', 'Уфа', 'Ростов-на-Дону', 'Омск', 'Краснодар', 'Воронеж', 'Пермь', 'Волгоград')\n",
    "    ORDER BY 2\n",
    "    '''"
   ]
  },
  {
   "cell_type": "code",
   "execution_count": 579,
   "id": "ttPhiO1rsvPq",
   "metadata": {
    "id": "ttPhiO1rsvPq"
   },
   "outputs": [
    {
     "name": "stderr",
     "output_type": "stream",
     "text": [
      "C:\\Users\\user\\AppData\\Local\\Temp\\ipykernel_11672\\3129374555.py:1: UserWarning: pandas only supports SQLAlchemy connectable (engine/connection) or database string URI or sqlite3 DBAPI2 connection. Other DBAPI2 objects are not tested. Please consider using SQLAlchemy.\n",
      "  df = pd.read_sql_query(query_5_7, connection)\n"
     ]
    },
    {
     "data": {
      "text/html": [
       "<div>\n",
       "<style scoped>\n",
       "    .dataframe tbody tr th:only-of-type {\n",
       "        vertical-align: middle;\n",
       "    }\n",
       "\n",
       "    .dataframe tbody tr th {\n",
       "        vertical-align: top;\n",
       "    }\n",
       "\n",
       "    .dataframe thead th {\n",
       "        text-align: right;\n",
       "    }\n",
       "</style>\n",
       "<table border=\"1\" class=\"dataframe\">\n",
       "  <thead>\n",
       "    <tr style=\"text-align: right;\">\n",
       "      <th></th>\n",
       "      <th>Регионы-миллионники</th>\n",
       "      <th>Кол-во вакансий</th>\n",
       "    </tr>\n",
       "  </thead>\n",
       "  <tbody>\n",
       "    <tr>\n",
       "      <th>0</th>\n",
       "      <td>Омск</td>\n",
       "      <td>21</td>\n",
       "    </tr>\n",
       "    <tr>\n",
       "      <th>1</th>\n",
       "      <td>Челябинск</td>\n",
       "      <td>22</td>\n",
       "    </tr>\n",
       "    <tr>\n",
       "      <th>2</th>\n",
       "      <td>Красноярск</td>\n",
       "      <td>23</td>\n",
       "    </tr>\n",
       "    <tr>\n",
       "      <th>3</th>\n",
       "      <td>Волгоград</td>\n",
       "      <td>24</td>\n",
       "    </tr>\n",
       "    <tr>\n",
       "      <th>4</th>\n",
       "      <td>Пермь</td>\n",
       "      <td>25</td>\n",
       "    </tr>\n",
       "    <tr>\n",
       "      <th>5</th>\n",
       "      <td>Казань</td>\n",
       "      <td>25</td>\n",
       "    </tr>\n",
       "    <tr>\n",
       "      <th>6</th>\n",
       "      <td>Ростов-на-Дону</td>\n",
       "      <td>25</td>\n",
       "    </tr>\n",
       "    <tr>\n",
       "      <th>7</th>\n",
       "      <td>Уфа</td>\n",
       "      <td>26</td>\n",
       "    </tr>\n",
       "    <tr>\n",
       "      <th>8</th>\n",
       "      <td>Самара</td>\n",
       "      <td>26</td>\n",
       "    </tr>\n",
       "    <tr>\n",
       "      <th>9</th>\n",
       "      <td>Краснодар</td>\n",
       "      <td>30</td>\n",
       "    </tr>\n",
       "    <tr>\n",
       "      <th>10</th>\n",
       "      <td>Воронеж</td>\n",
       "      <td>32</td>\n",
       "    </tr>\n",
       "    <tr>\n",
       "      <th>11</th>\n",
       "      <td>Новосибирск</td>\n",
       "      <td>35</td>\n",
       "    </tr>\n",
       "    <tr>\n",
       "      <th>12</th>\n",
       "      <td>Нижний Новгород</td>\n",
       "      <td>36</td>\n",
       "    </tr>\n",
       "    <tr>\n",
       "      <th>13</th>\n",
       "      <td>Екатеринбург</td>\n",
       "      <td>39</td>\n",
       "    </tr>\n",
       "    <tr>\n",
       "      <th>14</th>\n",
       "      <td>Санкт-Петербург</td>\n",
       "      <td>42</td>\n",
       "    </tr>\n",
       "    <tr>\n",
       "      <th>15</th>\n",
       "      <td>Москва</td>\n",
       "      <td>54</td>\n",
       "    </tr>\n",
       "    <tr>\n",
       "      <th>16</th>\n",
       "      <td>Total</td>\n",
       "      <td>485</td>\n",
       "    </tr>\n",
       "  </tbody>\n",
       "</table>\n",
       "</div>"
      ],
      "text/plain": [
       "   Регионы-миллионники  Кол-во вакансий\n",
       "0                 Омск               21\n",
       "1            Челябинск               22\n",
       "2           Красноярск               23\n",
       "3            Волгоград               24\n",
       "4                Пермь               25\n",
       "5               Казань               25\n",
       "6       Ростов-на-Дону               25\n",
       "7                  Уфа               26\n",
       "8               Самара               26\n",
       "9            Краснодар               30\n",
       "10             Воронеж               32\n",
       "11         Новосибирск               35\n",
       "12     Нижний Новгород               36\n",
       "13        Екатеринбург               39\n",
       "14     Санкт-Петербург               42\n",
       "15              Москва               54\n",
       "16               Total              485"
      ]
     },
     "execution_count": 579,
     "metadata": {},
     "output_type": "execute_result"
    }
   ],
   "source": [
    "df = pd.read_sql_query(query_5_7, connection)\n",
    "df"
   ]
  },
  {
   "cell_type": "markdown",
   "id": "04966e40-3bc3-4dc8-9ba2-e80580ce3abc",
   "metadata": {
    "id": "04966e40-3bc3-4dc8-9ba2-e80580ce3abc"
   },
   "source": [
    "***"
   ]
  },
  {
   "cell_type": "markdown",
   "id": "a76ae2ce",
   "metadata": {},
   "source": [
    "\n",
    "## Выводы по анализу работодателей:\n",
    "* Компания Яндекс занимает первое место по количеству вакансий. Это указывает на значительное присутствие и активность компании на рынке труда.\n",
    "* В регионах, где нет вакансий, большинство работодателей находится в России. Это может быть связано с ориентацией этих работодателей на местный рынок труда.\n",
    "* Выявлено 8419 работодателей, у которых не указана сфера деятельности. Это может указывать на неполную или некорректную заполненность данных в базе.\n",
    "* Наиболее востребованный опыт работы - от 1 года до 3 лет. Это может быть связано с тем, что работодатели ищут кандидатов, которые имеют определенный опыт работы, но еще не являются слишком специализированными.\n",
    "* Полная занятость является наиболее популярным типом занятости. Это указывает на то, что работодатели предпочитают нанимать сотрудников на полный рабочий день.\n",
    "* Компания Яндекс представила 485 вакансий в 17 городах-миллионниках. Это говорит о широком географическом охвате и наличии возможностей для трудоустройства в разных городах."
   ]
  },
  {
   "cell_type": "markdown",
   "id": "b1ef156a-efcb-49ce-bb23-90763e7f35b2",
   "metadata": {
    "id": "b1ef156a-efcb-49ce-bb23-90763e7f35b2",
    "tags": []
   },
   "source": [
    "# Юнит 6. Предметный анализ"
   ]
  },
  {
   "cell_type": "markdown",
   "id": "b9cd50a0-992d-4988-8463-2b2b1c4629b4",
   "metadata": {
    "id": "b9cd50a0-992d-4988-8463-2b2b1c4629b4"
   },
   "source": [
    "1. Сколько вакансий имеет отношение к данным?\n",
    "\n",
    "Считаем, что вакансия имеет отношение к данным, если в её названии содержатся слова 'data' или 'данн'.\n",
    "\n",
    "*Подсказка: Обратите внимание, что названия вакансий могут быть написаны в любом регистре.* \n"
   ]
  },
  {
   "cell_type": "code",
   "execution_count": 580,
   "id": "54ab0e50-c0f1-47cc-a54b-bc5c8bc363f9",
   "metadata": {
    "id": "54ab0e50-c0f1-47cc-a54b-bc5c8bc363f9"
   },
   "outputs": [],
   "source": [
    "query_6_1 = f'''\n",
    "    SELECT\n",
    "        COUNT(v.id) AS \"Кол-во вакансий, связанных с DS\"\n",
    "    FROM vacancies v\n",
    "    WHERE lower(v.name) LIKE '%данн%' OR lower(v.name) LIKE '%data%'\n",
    "    '''"
   ]
  },
  {
   "cell_type": "code",
   "execution_count": 581,
   "id": "9F1meAqsuUjd",
   "metadata": {
    "id": "9F1meAqsuUjd"
   },
   "outputs": [
    {
     "name": "stderr",
     "output_type": "stream",
     "text": [
      "C:\\Users\\user\\AppData\\Local\\Temp\\ipykernel_11672\\3746746274.py:1: UserWarning: pandas only supports SQLAlchemy connectable (engine/connection) or database string URI or sqlite3 DBAPI2 connection. Other DBAPI2 objects are not tested. Please consider using SQLAlchemy.\n",
      "  df =pd.read_sql_query(query_6_1, connection)\n"
     ]
    },
    {
     "data": {
      "text/html": [
       "<div>\n",
       "<style scoped>\n",
       "    .dataframe tbody tr th:only-of-type {\n",
       "        vertical-align: middle;\n",
       "    }\n",
       "\n",
       "    .dataframe tbody tr th {\n",
       "        vertical-align: top;\n",
       "    }\n",
       "\n",
       "    .dataframe thead th {\n",
       "        text-align: right;\n",
       "    }\n",
       "</style>\n",
       "<table border=\"1\" class=\"dataframe\">\n",
       "  <thead>\n",
       "    <tr style=\"text-align: right;\">\n",
       "      <th></th>\n",
       "      <th>Кол-во вакансий, связанных с DS</th>\n",
       "    </tr>\n",
       "  </thead>\n",
       "  <tbody>\n",
       "    <tr>\n",
       "      <th>0</th>\n",
       "      <td>1771</td>\n",
       "    </tr>\n",
       "  </tbody>\n",
       "</table>\n",
       "</div>"
      ],
      "text/plain": [
       "   Кол-во вакансий, связанных с DS\n",
       "0                             1771"
      ]
     },
     "execution_count": 581,
     "metadata": {},
     "output_type": "execute_result"
    }
   ],
   "source": [
    "df =pd.read_sql_query(query_6_1, connection)\n",
    "df"
   ]
  },
  {
   "cell_type": "markdown",
   "id": "4dea20cb-a36b-474a-a0b9-e08e8e3857a5",
   "metadata": {
    "id": "4dea20cb-a36b-474a-a0b9-e08e8e3857a5"
   },
   "source": [
    "2. Сколько есть подходящих вакансий для начинающего дата-сайентиста? \n",
    "Будем считать вакансиями для дата-сайентистов такие, в названии которых есть хотя бы одно из следующих сочетаний:\n",
    "* 'data scientist'\n",
    "* 'data science'\n",
    "* 'исследователь данных'\n",
    "* 'ML' (здесь не нужно брать вакансии по HTML)\n",
    "* 'machine learning'\n",
    "* 'машинн%обучен%'\n",
    "\n",
    "** В следующих заданиях мы продолжим работать с вакансиями по этому условию.*\n",
    "\n",
    "Считаем вакансиями для специалистов уровня Junior следующие:\n",
    "* в названии есть слово 'junior' *или*\n",
    "* требуемый опыт — Нет опыта *или*\n",
    "* тип трудоустройства — Стажировка.\n",
    " "
   ]
  },
  {
   "cell_type": "code",
   "execution_count": 582,
   "id": "9c61b3c0-bb66-46c9-ae1e-81d3f5752b4a",
   "metadata": {
    "id": "9c61b3c0-bb66-46c9-ae1e-81d3f5752b4a"
   },
   "outputs": [],
   "source": [
    "query_6_2 = f'''\n",
    "    SELECT\n",
    "        COUNT(v.id) AS \"Кол-во вакансий junior DS\"\n",
    "    FROM vacancies v\n",
    "    WHERE (lower(v.name) LIKE '%data scientist%'\n",
    "    OR lower(v.name) LIKE '%data science%'\n",
    "    OR lower(v.name) like '%исследователь данных%'\n",
    "    OR (v.name LIKE '%ML%' AND v.name NOT LIKE '%HTML%')\n",
    "    OR lower(v.name) LIKE '%machine learning%'\n",
    "    OR lower(v.name) LIKE '%машинн%обучен%')\n",
    "    AND \n",
    "    (lower(v.name) LIKE '%junior%'\n",
    "    OR lower(v.experience) LIKE '%нет опыта%'\n",
    "    OR lower(v.experience) LIKE '%стажировка%')\n",
    "    '''"
   ]
  },
  {
   "cell_type": "code",
   "execution_count": 583,
   "id": "ZNM-LLYuu1dj",
   "metadata": {
    "id": "ZNM-LLYuu1dj"
   },
   "outputs": [
    {
     "name": "stderr",
     "output_type": "stream",
     "text": [
      "C:\\Users\\user\\AppData\\Local\\Temp\\ipykernel_11672\\570157465.py:1: UserWarning: pandas only supports SQLAlchemy connectable (engine/connection) or database string URI or sqlite3 DBAPI2 connection. Other DBAPI2 objects are not tested. Please consider using SQLAlchemy.\n",
      "  df =pd.read_sql_query(query_6_2, connection)\n"
     ]
    },
    {
     "data": {
      "text/html": [
       "<div>\n",
       "<style scoped>\n",
       "    .dataframe tbody tr th:only-of-type {\n",
       "        vertical-align: middle;\n",
       "    }\n",
       "\n",
       "    .dataframe tbody tr th {\n",
       "        vertical-align: top;\n",
       "    }\n",
       "\n",
       "    .dataframe thead th {\n",
       "        text-align: right;\n",
       "    }\n",
       "</style>\n",
       "<table border=\"1\" class=\"dataframe\">\n",
       "  <thead>\n",
       "    <tr style=\"text-align: right;\">\n",
       "      <th></th>\n",
       "      <th>Кол-во вакансий junior DS</th>\n",
       "    </tr>\n",
       "  </thead>\n",
       "  <tbody>\n",
       "    <tr>\n",
       "      <th>0</th>\n",
       "      <td>51</td>\n",
       "    </tr>\n",
       "  </tbody>\n",
       "</table>\n",
       "</div>"
      ],
      "text/plain": [
       "   Кол-во вакансий junior DS\n",
       "0                         51"
      ]
     },
     "execution_count": 583,
     "metadata": {},
     "output_type": "execute_result"
    }
   ],
   "source": [
    "df =pd.read_sql_query(query_6_2, connection)\n",
    "df"
   ]
  },
  {
   "cell_type": "markdown",
   "id": "eedceb80-c5ca-480e-b27a-278dfb8b4438",
   "metadata": {
    "id": "eedceb80-c5ca-480e-b27a-278dfb8b4438"
   },
   "source": [
    "3. Сколько есть вакансий для DS, в которых в качестве ключевого навыка указан SQL или postgres?\n",
    "\n",
    "** Критерии для отнесения вакансии к DS указаны в предыдущем задании.*"
   ]
  },
  {
   "cell_type": "code",
   "execution_count": 584,
   "id": "69621713-0cc5-4f1b-a1d7-bb144fa6148c",
   "metadata": {
    "id": "69621713-0cc5-4f1b-a1d7-bb144fa6148c"
   },
   "outputs": [],
   "source": [
    "query_6_3 = f'''\n",
    "SELECT \n",
    "     COUNT(v.id)\n",
    "FROM vacancies v\n",
    "WHERE ((v.key_skills like '%SQL%') or (v.key_skills ilike '%postgres%'))\n",
    "\n",
    "    AND ((name ILIKE '%data scientist%') OR (name ILIKE '%data science%') \n",
    "    OR (name ILIKE '%исследователь данных%')\n",
    "    OR ((name ILIKE '%ML%') AND (name NOT ILIKE '%HTML%'))\n",
    "    OR (name ILIKE '%machine learning%')\n",
    "    OR (name ILIKE '%машинн%обучен%')\n",
    "    AND (key_skills IS NOT NULL))\n",
    "'''   "
   ]
  },
  {
   "cell_type": "code",
   "execution_count": 585,
   "id": "alA8WEAAvGdf",
   "metadata": {
    "id": "alA8WEAAvGdf"
   },
   "outputs": [
    {
     "name": "stderr",
     "output_type": "stream",
     "text": [
      "C:\\Users\\user\\AppData\\Local\\Temp\\ipykernel_11672\\1159587760.py:1: UserWarning: pandas only supports SQLAlchemy connectable (engine/connection) or database string URI or sqlite3 DBAPI2 connection. Other DBAPI2 objects are not tested. Please consider using SQLAlchemy.\n",
      "  df = pd.read_sql_query(query_6_3, connection)\n"
     ]
    },
    {
     "data": {
      "text/html": [
       "<div>\n",
       "<style scoped>\n",
       "    .dataframe tbody tr th:only-of-type {\n",
       "        vertical-align: middle;\n",
       "    }\n",
       "\n",
       "    .dataframe tbody tr th {\n",
       "        vertical-align: top;\n",
       "    }\n",
       "\n",
       "    .dataframe thead th {\n",
       "        text-align: right;\n",
       "    }\n",
       "</style>\n",
       "<table border=\"1\" class=\"dataframe\">\n",
       "  <thead>\n",
       "    <tr style=\"text-align: right;\">\n",
       "      <th></th>\n",
       "      <th>count</th>\n",
       "    </tr>\n",
       "  </thead>\n",
       "  <tbody>\n",
       "    <tr>\n",
       "      <th>0</th>\n",
       "      <td>229</td>\n",
       "    </tr>\n",
       "  </tbody>\n",
       "</table>\n",
       "</div>"
      ],
      "text/plain": [
       "   count\n",
       "0    229"
      ]
     },
     "execution_count": 585,
     "metadata": {},
     "output_type": "execute_result"
    }
   ],
   "source": [
    "df = pd.read_sql_query(query_6_3, connection)\n",
    "df"
   ]
  },
  {
   "cell_type": "markdown",
   "id": "1be1e9c6-37cf-4a5f-bfeb-04cab799dc80",
   "metadata": {
    "id": "1be1e9c6-37cf-4a5f-bfeb-04cab799dc80"
   },
   "source": [
    "4. Проверьте, насколько популярен Python в требованиях работодателей к DS.Для этого вычислите количество вакансий, в которых в качестве ключевого навыка указан Python.\n",
    "\n",
    "** Это можно сделать помощью запроса, аналогичного предыдущему.*"
   ]
  },
  {
   "cell_type": "code",
   "execution_count": 586,
   "id": "0036a355-9ccf-4564-8b01-73d8194297e7",
   "metadata": {
    "id": "0036a355-9ccf-4564-8b01-73d8194297e7"
   },
   "outputs": [],
   "source": [
    "query_6_4 = f'''\n",
    "SELECT\n",
    "        COUNT(*)\n",
    "FROM vacancies v\n",
    "WHERE\n",
    "        (\n",
    "        name ilike '%data scientist%'  OR\n",
    "        name ilike  '%data science%' OR\n",
    "        name ilike  '%исследователь данных%'  OR\n",
    "        (name ilike  '%ML%' and name not ilike '%HTML%')  OR\n",
    "        name ilike '%machine learning%' OR  \n",
    "        name ilike '%машинн%обучен%'\n",
    "        )\n",
    "        AND\n",
    "        key_skills ilike '%Python%'\n",
    "                \n",
    "'''   "
   ]
  },
  {
   "cell_type": "code",
   "execution_count": 587,
   "id": "1i-5WyucvQ6v",
   "metadata": {
    "id": "1i-5WyucvQ6v"
   },
   "outputs": [
    {
     "name": "stderr",
     "output_type": "stream",
     "text": [
      "C:\\Users\\user\\AppData\\Local\\Temp\\ipykernel_11672\\972386973.py:1: UserWarning: pandas only supports SQLAlchemy connectable (engine/connection) or database string URI or sqlite3 DBAPI2 connection. Other DBAPI2 objects are not tested. Please consider using SQLAlchemy.\n",
      "  df = pd.read_sql_query(query_6_4, connection)\n"
     ]
    },
    {
     "data": {
      "text/html": [
       "<div>\n",
       "<style scoped>\n",
       "    .dataframe tbody tr th:only-of-type {\n",
       "        vertical-align: middle;\n",
       "    }\n",
       "\n",
       "    .dataframe tbody tr th {\n",
       "        vertical-align: top;\n",
       "    }\n",
       "\n",
       "    .dataframe thead th {\n",
       "        text-align: right;\n",
       "    }\n",
       "</style>\n",
       "<table border=\"1\" class=\"dataframe\">\n",
       "  <thead>\n",
       "    <tr style=\"text-align: right;\">\n",
       "      <th></th>\n",
       "      <th>count</th>\n",
       "    </tr>\n",
       "  </thead>\n",
       "  <tbody>\n",
       "    <tr>\n",
       "      <th>0</th>\n",
       "      <td>357</td>\n",
       "    </tr>\n",
       "  </tbody>\n",
       "</table>\n",
       "</div>"
      ],
      "text/plain": [
       "   count\n",
       "0    357"
      ]
     },
     "execution_count": 587,
     "metadata": {},
     "output_type": "execute_result"
    }
   ],
   "source": [
    "df = pd.read_sql_query(query_6_4, connection)\n",
    "df"
   ]
  },
  {
   "cell_type": "markdown",
   "id": "ec3c8db7-fa21-4a41-a994-1af63742a642",
   "metadata": {
    "id": "ec3c8db7-fa21-4a41-a994-1af63742a642"
   },
   "source": [
    "5. Сколько ключевых навыков в среднем указывают в вакансиях для DS?\n",
    "Ответ округлите до двух знаков после точки-разделителя."
   ]
  },
  {
   "cell_type": "code",
   "execution_count": 588,
   "id": "949132bc-d5b6-4611-8218-0b9a504d74f4",
   "metadata": {
    "id": "949132bc-d5b6-4611-8218-0b9a504d74f4"
   },
   "outputs": [],
   "source": [
    "query_6_5 = f'''\n",
    "SELECT\n",
    "      round(avg(LENGTH(v.key_skills) - \n",
    "      LENGTH(replace(v.key_skills, chr(9), '')) + 1), 2) as \"Среднее к-во скилов\"\n",
    "          \n",
    "FROM vacancies v\n",
    "WHERE (lower(v.name) like '%data scientist%' OR \n",
    "      lower(v.name) like '%data science%' OR\n",
    "      lower(v.name) like '%исследователь данных%' OR\n",
    "      (v.name like '%ML%' and v.name not like '%HTML%') OR\n",
    "      lower(v.name) like '%machine learning%' OR\n",
    "      lower(v.name) like '%машинн%обучен%%')                 \n",
    "'''   "
   ]
  },
  {
   "cell_type": "code",
   "execution_count": 589,
   "id": "a3V24Tvmviqk",
   "metadata": {
    "id": "a3V24Tvmviqk"
   },
   "outputs": [
    {
     "name": "stderr",
     "output_type": "stream",
     "text": [
      "C:\\Users\\user\\AppData\\Local\\Temp\\ipykernel_11672\\390248827.py:1: UserWarning: pandas only supports SQLAlchemy connectable (engine/connection) or database string URI or sqlite3 DBAPI2 connection. Other DBAPI2 objects are not tested. Please consider using SQLAlchemy.\n",
      "  df = pd.read_sql_query(query_6_5, connection)\n"
     ]
    },
    {
     "data": {
      "text/html": [
       "<div>\n",
       "<style scoped>\n",
       "    .dataframe tbody tr th:only-of-type {\n",
       "        vertical-align: middle;\n",
       "    }\n",
       "\n",
       "    .dataframe tbody tr th {\n",
       "        vertical-align: top;\n",
       "    }\n",
       "\n",
       "    .dataframe thead th {\n",
       "        text-align: right;\n",
       "    }\n",
       "</style>\n",
       "<table border=\"1\" class=\"dataframe\">\n",
       "  <thead>\n",
       "    <tr style=\"text-align: right;\">\n",
       "      <th></th>\n",
       "      <th>Среднее к-во скилов</th>\n",
       "    </tr>\n",
       "  </thead>\n",
       "  <tbody>\n",
       "    <tr>\n",
       "      <th>0</th>\n",
       "      <td>6.41</td>\n",
       "    </tr>\n",
       "  </tbody>\n",
       "</table>\n",
       "</div>"
      ],
      "text/plain": [
       "   Среднее к-во скилов\n",
       "0                 6.41"
      ]
     },
     "execution_count": 589,
     "metadata": {},
     "output_type": "execute_result"
    }
   ],
   "source": [
    "df = pd.read_sql_query(query_6_5, connection)\n",
    "df"
   ]
  },
  {
   "cell_type": "markdown",
   "id": "1041c17a-ca8f-4543-a0ca-32778914fb00",
   "metadata": {
    "id": "1041c17a-ca8f-4543-a0ca-32778914fb00"
   },
   "source": [
    "6. Напишите запрос, позволяющий вычислить, какую зарплату для DS в **среднем** указывают для каждого типа требуемого опыта (уникальное значение из поля *experience*). \n",
    "\n",
    "При решении задачи примите во внимание следующее:\n",
    "1. Рассматриваем только вакансии, у которых заполнено хотя бы одно из двух полей с зарплатой.\n",
    "2. Если заполнены оба поля с зарплатой, то считаем зарплату по каждой вакансии как сумму двух полей, делённую на 2. Если заполнено только одно из полей, то его и считаем зарплатой по вакансии.\n",
    "3. Если в расчётах участвует null, в результате он тоже даст null (посмотрите, что возвращает запрос select 1 + null). Чтобы избежать этой ситуацию, мы воспользуемся функцией [coalesce](https://postgrespro.ru/docs/postgresql/9.5/functions-conditional#functions-coalesce-nvl-ifnull), которая заменит null на значение, которое мы передадим. Например, посмотрите, что возвращает запрос `select 1 + coalesce(null, 0)`\n",
    "\n",
    "Выясните, на какую зарплату в среднем может рассчитывать дата-сайентист с опытом работы от 3 до 6 лет. Результат округлите до целого числа. "
   ]
  },
  {
   "cell_type": "code",
   "execution_count": 590,
   "id": "6a743d39-5204-48d3-8271-b9f88e68d40e",
   "metadata": {
    "id": "6a743d39-5204-48d3-8271-b9f88e68d40e"
   },
   "outputs": [],
   "source": [
    "query_6_6 = f'''\n",
    "SELECT\n",
    "      round(avg(coalesce((salary_from+salary_to)/2, \n",
    "      salary_from, salary_to))) \"Средняя ЗП DS с опытом 3-6 лет\"\n",
    "    \n",
    "FROM vacancies v\n",
    "WHERE (lower(v.name) like '%data scientist%' OR \n",
    "      lower(v.name) like '%data science%' OR\n",
    "      lower(v.name) like '%исследователь данных%' OR\n",
    "      (v.name like '%ML%' and v.name not like '%HTML%') OR\n",
    "      lower(v.name) like '%machine learning%' OR\n",
    "      lower(v.name) like '%машинн%обучен%%') \n",
    "      AND (v.salary_from is not null or salary_to is not null)   \n",
    "      AND (v.experience = 'От 3 до 6 лет')                       \n",
    "'''   "
   ]
  },
  {
   "cell_type": "code",
   "execution_count": 591,
   "id": "aRIJ0mZEwU1_",
   "metadata": {
    "id": "aRIJ0mZEwU1_"
   },
   "outputs": [
    {
     "name": "stderr",
     "output_type": "stream",
     "text": [
      "C:\\Users\\user\\AppData\\Local\\Temp\\ipykernel_11672\\3561045109.py:1: UserWarning: pandas only supports SQLAlchemy connectable (engine/connection) or database string URI or sqlite3 DBAPI2 connection. Other DBAPI2 objects are not tested. Please consider using SQLAlchemy.\n",
      "  df = pd.read_sql_query(query_6_6, connection)\n"
     ]
    },
    {
     "data": {
      "text/html": [
       "<div>\n",
       "<style scoped>\n",
       "    .dataframe tbody tr th:only-of-type {\n",
       "        vertical-align: middle;\n",
       "    }\n",
       "\n",
       "    .dataframe tbody tr th {\n",
       "        vertical-align: top;\n",
       "    }\n",
       "\n",
       "    .dataframe thead th {\n",
       "        text-align: right;\n",
       "    }\n",
       "</style>\n",
       "<table border=\"1\" class=\"dataframe\">\n",
       "  <thead>\n",
       "    <tr style=\"text-align: right;\">\n",
       "      <th></th>\n",
       "      <th>Средняя ЗП DS с опытом 3-6 лет</th>\n",
       "    </tr>\n",
       "  </thead>\n",
       "  <tbody>\n",
       "    <tr>\n",
       "      <th>0</th>\n",
       "      <td>243115.0</td>\n",
       "    </tr>\n",
       "  </tbody>\n",
       "</table>\n",
       "</div>"
      ],
      "text/plain": [
       "   Средняя ЗП DS с опытом 3-6 лет\n",
       "0                        243115.0"
      ]
     },
     "execution_count": 591,
     "metadata": {},
     "output_type": "execute_result"
    }
   ],
   "source": [
    "df = pd.read_sql_query(query_6_6, connection)\n",
    "df"
   ]
  },
  {
   "cell_type": "markdown",
   "id": "6a7892b4-4113-4746-adce-18aa2844f18e",
   "metadata": {
    "id": "6a7892b4-4113-4746-adce-18aa2844f18e"
   },
   "source": [
    "***"
   ]
  },
  {
   "cell_type": "markdown",
   "id": "cce69855",
   "metadata": {},
   "source": [
    "### Выводы по предметному анализу:\n",
    "* Количество вакансий, связанных с работой с данными, составляет 1771. Это указывает на наличие значительного спроса на специалистов в области анализа данных и data science.\n",
    "* Существует 51 подходящая вакансия для начинающего дата-сайентиста. Это означает, что существуют возможности для новичков в этой области найти работу и начать свою карьеру.\n",
    "* Количество вакансий для дата-сайентистов, где SQL или postgre указаны в качестве ключевых навыков, составляет 201. Это указывает на важность знания SQL или postgre для работы в этой области и требования работодателей в этом отношении.\n",
    "* Количество вакансий, где Python указывается в качестве ключевого навыка, составляет 351. Это говорит о том, что знание Python востребовано в работе дата-сайентиста и является одним из основных инструментов в этой области.\n",
    "* Среднее количество ключевых навыков для дата-сайентиста составляет более 6. Это говорит о том, что в этой области требуются специалисты с широким спектром навыков и компетенций.\n",
    "* Средняя зарплата для дата-сайентиста с опытом работы от 3 до 6 лет составляет 243115. Это указывает на то, что опытные специалисты в этой области могут рассчитывать на высокую заработную плату."
   ]
  },
  {
   "cell_type": "markdown",
   "id": "e1ec6c89",
   "metadata": {},
   "source": [
    "***"
   ]
  },
  {
   "cell_type": "markdown",
   "id": "a212953f",
   "metadata": {},
   "source": [
    "### Дополнительные исследования\n",
    "\n",
    "7.1 Проведём анализ количества вакансий по сферам деятельности. Выведем ТОП-10 сфер деятельности по количеству вакансий."
   ]
  },
  {
   "cell_type": "code",
   "execution_count": 592,
   "id": "0336548c",
   "metadata": {},
   "outputs": [],
   "source": [
    "query_7_1 = f'''\n",
    "SELECT\n",
    "    i.name AS \"Сфера деятельности\",\n",
    "    COUNT(v.id) AS \"Количество вакансий\"\n",
    "FROM industries i\n",
    "LEFT JOIN employers_industries ei ON i.id = ei.industry_id\n",
    "LEFT JOIN vacancies v ON ei.employer_id = v.employer_id\n",
    "GROUP BY i.name\n",
    "ORDER BY COUNT(v.id) DESC\n",
    "LIMIT 10\n",
    "'''"
   ]
  },
  {
   "cell_type": "code",
   "execution_count": 593,
   "id": "b339c138",
   "metadata": {},
   "outputs": [
    {
     "name": "stderr",
     "output_type": "stream",
     "text": [
      "C:\\Users\\user\\AppData\\Local\\Temp\\ipykernel_11672\\1669388331.py:1: UserWarning: pandas only supports SQLAlchemy connectable (engine/connection) or database string URI or sqlite3 DBAPI2 connection. Other DBAPI2 objects are not tested. Please consider using SQLAlchemy.\n",
      "  df =pd.read_sql_query(query_7_1, connection)\n"
     ]
    },
    {
     "data": {
      "text/html": [
       "<div>\n",
       "<style scoped>\n",
       "    .dataframe tbody tr th:only-of-type {\n",
       "        vertical-align: middle;\n",
       "    }\n",
       "\n",
       "    .dataframe tbody tr th {\n",
       "        vertical-align: top;\n",
       "    }\n",
       "\n",
       "    .dataframe thead th {\n",
       "        text-align: right;\n",
       "    }\n",
       "</style>\n",
       "<table border=\"1\" class=\"dataframe\">\n",
       "  <thead>\n",
       "    <tr style=\"text-align: right;\">\n",
       "      <th></th>\n",
       "      <th>Сфера деятельности</th>\n",
       "      <th>Количество вакансий</th>\n",
       "    </tr>\n",
       "  </thead>\n",
       "  <tbody>\n",
       "    <tr>\n",
       "      <th>0</th>\n",
       "      <td>Разработка программного обеспечения</td>\n",
       "      <td>12499</td>\n",
       "    </tr>\n",
       "    <tr>\n",
       "      <th>1</th>\n",
       "      <td>Системная интеграция,  автоматизации технологи...</td>\n",
       "      <td>11034</td>\n",
       "    </tr>\n",
       "    <tr>\n",
       "      <th>2</th>\n",
       "      <td>Интернет-компания (поисковики, платежные систе...</td>\n",
       "      <td>6413</td>\n",
       "    </tr>\n",
       "    <tr>\n",
       "      <th>3</th>\n",
       "      <td>Банк</td>\n",
       "      <td>2742</td>\n",
       "    </tr>\n",
       "    <tr>\n",
       "      <th>4</th>\n",
       "      <td>Мобильная связь</td>\n",
       "      <td>1585</td>\n",
       "    </tr>\n",
       "    <tr>\n",
       "      <th>5</th>\n",
       "      <td>Кадровые агентства</td>\n",
       "      <td>1143</td>\n",
       "    </tr>\n",
       "    <tr>\n",
       "      <th>6</th>\n",
       "      <td>Консалтинговые услуги</td>\n",
       "      <td>1137</td>\n",
       "    </tr>\n",
       "    <tr>\n",
       "      <th>7</th>\n",
       "      <td>Интернет-провайдер</td>\n",
       "      <td>1095</td>\n",
       "    </tr>\n",
       "    <tr>\n",
       "      <th>8</th>\n",
       "      <td>Розничная сеть (продуктовая)</td>\n",
       "      <td>1034</td>\n",
       "    </tr>\n",
       "    <tr>\n",
       "      <th>9</th>\n",
       "      <td>Фиксированная связь</td>\n",
       "      <td>1028</td>\n",
       "    </tr>\n",
       "  </tbody>\n",
       "</table>\n",
       "</div>"
      ],
      "text/plain": [
       "                                  Сфера деятельности  Количество вакансий\n",
       "0                Разработка программного обеспечения                12499\n",
       "1  Системная интеграция,  автоматизации технологи...                11034\n",
       "2  Интернет-компания (поисковики, платежные систе...                 6413\n",
       "3                                               Банк                 2742\n",
       "4                                    Мобильная связь                 1585\n",
       "5                                 Кадровые агентства                 1143\n",
       "6                              Консалтинговые услуги                 1137\n",
       "7                                 Интернет-провайдер                 1095\n",
       "8                       Розничная сеть (продуктовая)                 1034\n",
       "9                                Фиксированная связь                 1028"
      ]
     },
     "execution_count": 593,
     "metadata": {},
     "output_type": "execute_result"
    }
   ],
   "source": [
    "df =pd.read_sql_query(query_7_1, connection)\n",
    "df"
   ]
  },
  {
   "cell_type": "markdown",
   "id": "5dd87c39",
   "metadata": {},
   "source": [
    "7.2 Проведём анализ количества работодателей по сферам деятельности. Выведем ТОП-10 сфер деятельности по количеству работодателей."
   ]
  },
  {
   "cell_type": "code",
   "execution_count": 594,
   "id": "a4c08967",
   "metadata": {},
   "outputs": [],
   "source": [
    "query_7_2 = f'''\n",
    "SELECT\n",
    "    i.name AS \"Сфера деятельности\",\n",
    "    COUNT(DISTINCT ei.employer_id) AS \"Количество работодателей\"\n",
    "FROM employers_industries ei\n",
    "JOIN industries i ON ei.industry_id = i.id\n",
    "GROUP BY i.name\n",
    "ORDER BY COUNT(DISTINCT ei.employer_id) DESC\n",
    "LIMIT 10\n",
    "'''"
   ]
  },
  {
   "cell_type": "code",
   "execution_count": 595,
   "id": "ce75e204",
   "metadata": {},
   "outputs": [
    {
     "name": "stderr",
     "output_type": "stream",
     "text": [
      "C:\\Users\\user\\AppData\\Local\\Temp\\ipykernel_11672\\3680141440.py:1: UserWarning: pandas only supports SQLAlchemy connectable (engine/connection) or database string URI or sqlite3 DBAPI2 connection. Other DBAPI2 objects are not tested. Please consider using SQLAlchemy.\n",
      "  df =pd.read_sql_query(query_7_2, connection)\n"
     ]
    },
    {
     "data": {
      "text/html": [
       "<div>\n",
       "<style scoped>\n",
       "    .dataframe tbody tr th:only-of-type {\n",
       "        vertical-align: middle;\n",
       "    }\n",
       "\n",
       "    .dataframe tbody tr th {\n",
       "        vertical-align: top;\n",
       "    }\n",
       "\n",
       "    .dataframe thead th {\n",
       "        text-align: right;\n",
       "    }\n",
       "</style>\n",
       "<table border=\"1\" class=\"dataframe\">\n",
       "  <thead>\n",
       "    <tr style=\"text-align: right;\">\n",
       "      <th></th>\n",
       "      <th>Сфера деятельности</th>\n",
       "      <th>Количество работодателей</th>\n",
       "    </tr>\n",
       "  </thead>\n",
       "  <tbody>\n",
       "    <tr>\n",
       "      <th>0</th>\n",
       "      <td>Разработка программного обеспечения</td>\n",
       "      <td>3553</td>\n",
       "    </tr>\n",
       "    <tr>\n",
       "      <th>1</th>\n",
       "      <td>Системная интеграция,  автоматизации технологи...</td>\n",
       "      <td>2993</td>\n",
       "    </tr>\n",
       "    <tr>\n",
       "      <th>2</th>\n",
       "      <td>Интернет-компания (поисковики, платежные систе...</td>\n",
       "      <td>1675</td>\n",
       "    </tr>\n",
       "    <tr>\n",
       "      <th>3</th>\n",
       "      <td>Маркетинговые, рекламные, BTL, дизайнерские, E...</td>\n",
       "      <td>798</td>\n",
       "    </tr>\n",
       "    <tr>\n",
       "      <th>4</th>\n",
       "      <td>Консалтинговые услуги</td>\n",
       "      <td>662</td>\n",
       "    </tr>\n",
       "    <tr>\n",
       "      <th>5</th>\n",
       "      <td>Кадровые агентства</td>\n",
       "      <td>389</td>\n",
       "    </tr>\n",
       "    <tr>\n",
       "      <th>6</th>\n",
       "      <td>Электронно-вычислительная, оптическая, контрол...</td>\n",
       "      <td>374</td>\n",
       "    </tr>\n",
       "    <tr>\n",
       "      <th>7</th>\n",
       "      <td>Розничная сеть (продуктовая)</td>\n",
       "      <td>368</td>\n",
       "    </tr>\n",
       "    <tr>\n",
       "      <th>8</th>\n",
       "      <td>Интернет-магазин</td>\n",
       "      <td>351</td>\n",
       "    </tr>\n",
       "    <tr>\n",
       "      <th>9</th>\n",
       "      <td>Архитектура, проектирование</td>\n",
       "      <td>346</td>\n",
       "    </tr>\n",
       "  </tbody>\n",
       "</table>\n",
       "</div>"
      ],
      "text/plain": [
       "                                  Сфера деятельности  Количество работодателей\n",
       "0                Разработка программного обеспечения                      3553\n",
       "1  Системная интеграция,  автоматизации технологи...                      2993\n",
       "2  Интернет-компания (поисковики, платежные систе...                      1675\n",
       "3  Маркетинговые, рекламные, BTL, дизайнерские, E...                       798\n",
       "4                              Консалтинговые услуги                       662\n",
       "5                                 Кадровые агентства                       389\n",
       "6  Электронно-вычислительная, оптическая, контрол...                       374\n",
       "7                       Розничная сеть (продуктовая)                       368\n",
       "8                                   Интернет-магазин                       351\n",
       "9                        Архитектура, проектирование                       346"
      ]
     },
     "execution_count": 595,
     "metadata": {},
     "output_type": "execute_result"
    }
   ],
   "source": [
    "df =pd.read_sql_query(query_7_2, connection)\n",
    "df"
   ]
  },
  {
   "cell_type": "code",
   "execution_count": 596,
   "id": "c26ff5be",
   "metadata": {},
   "outputs": [],
   "source": [
    "#закрываем соединение после окончания работы\n",
    "connection.close()"
   ]
  },
  {
   "cell_type": "markdown",
   "id": "65e9dd19",
   "metadata": {},
   "source": [
    "### Выводы по дополнительным исследованиям:\n",
    "* Сфера деятельности \"Разработка программного обеспечения\" имеет наибольшее количество вакансий (12499) и наибольшее количество работодателей (3553). Это указывает на высокий спрос на специалистов в этой области и наличие множества компаний, занимающихся разработкой программного обеспечения.\n",
    "* Сфера деятельности \"Системная интеграция, автоматизации технологий\" также имеет значительное количество вакансий (11034) и работодателей (2993). Это говорит о том, что автоматизация технологических процессов и системная интеграция являются востребованными и перспективными областями.\n",
    "* Сфера деятельности \"Интернет-компания (поисковики, платежные системы и другие)\" имеет меньшее количество вакансий (6413) и работодателей (1675) по сравнению с предыдущими двумя сферами. Однако она все равно представляет собой значительную долю рынка труда и может предоставлять интересные возможности для трудоустройства."
   ]
  },
  {
   "cell_type": "markdown",
   "id": "cccca53d",
   "metadata": {},
   "source": [
    "***"
   ]
  },
  {
   "cell_type": "markdown",
   "id": "c0ED6fh7wiBT",
   "metadata": {
    "id": "c0ED6fh7wiBT"
   },
   "source": [
    "# Общий вывод по проекту"
   ]
  },
  {
   "cell_type": "markdown",
   "id": "b06756cf",
   "metadata": {},
   "source": [
    "### Общий вывод по проекту:\n",
    "* Выборка содержит 49197 вакансий, представлен 23501 работодатель, содержится информация о 1362 регионах по 294 сферам деятельности.\n",
    "* Лидерами по количеству вакансий являются мегаполисы, выделяя их значимость на рынке труда и развитость как центров бизнеса и экономики.\n",
    "* Среднее значение для нижней зарплатной вилки составляет 71065, а для верхней зарплатной вилки - 110537.\n",
    "* Опыт работы от 1 года до 3 лет является наиболее востребованным.\n",
    "* Полная занятость является наиболее популярным типом занятости.\n",
    "* Компания \"Яндекс\" занимает первое место по количеству вакансий - 1933.\n",
    "* Полная занятость является наиболее популярным типом занятости.\n",
    "* Количество вакансий, связанных с работой с данными, составляет 1771. Количество вакансий, где Python указывается в качестве ключевого навыка, составляет 351. Среднее количество ключевых навыков для дата-сайентиста составляет более 6, при этом соискатель может расчитывать в среднем на зарплату в 243115 руб.\n",
    "* Сфера деятельности \"Разработка программного обеспечения\" имеет наибольшее количество вакансий - 12499 и наибольшее количество работодателей - 3553."
   ]
  }
 ],
 "metadata": {
  "colab": {
   "collapsed_sections": [
    "8d62a9f3-f64e-4fe7-bdac-c4dffa16155e"
   ],
   "provenance": []
  },
  "kernelspec": {
   "display_name": "Python 3",
   "language": "python",
   "name": "python3"
  },
  "language_info": {
   "codemirror_mode": {
    "name": "ipython",
    "version": 3
   },
   "file_extension": ".py",
   "mimetype": "text/x-python",
   "name": "python",
   "nbconvert_exporter": "python",
   "pygments_lexer": "ipython3",
   "version": "3.12.0"
  }
 },
 "nbformat": 4,
 "nbformat_minor": 5
}
